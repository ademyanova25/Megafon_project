{
 "cells": [
  {
   "cell_type": "code",
   "execution_count": 1,
   "id": "b8109769-62a9-4709-a238-a72628b5f585",
   "metadata": {},
   "outputs": [],
   "source": [
    "import pandas as pd\n",
    "import numpy as np\n",
    "\n",
    "from sklearn.linear_model import LinearRegression, Lasso, Ridge, LassoCV, RidgeCV\n",
    "from sklearn.preprocessing import StandardScaler\n",
    "from sklearn.metrics import mean_squared_error\n",
    "from sklearn.model_selection import train_test_split\n",
    "from sklearn.ensemble import RandomForestRegressor\n",
    "%matplotlib inline\n",
    "import seaborn as sns\n",
    "\n",
    "from scipy.stats import boxcox, probplot\n",
    "import matplotlib.pyplot as plt\n",
    "\n",
    "import dask.dataframe as dd\n",
    "import datetime\n",
    "from datetime import date\n",
    "\n",
    "import utils"
   ]
  },
  {
   "cell_type": "code",
   "execution_count": 2,
   "id": "db850972-67cb-43b1-a419-1ce2cb3fa673",
   "metadata": {},
   "outputs": [],
   "source": [
    "path_train = 'data_train.csv'\n",
    "path_test = 'data_test.csv'\n",
    "path_features = 'features.csv'"
   ]
  },
  {
   "cell_type": "code",
   "execution_count": 3,
   "id": "77b19e27-cbe6-40a4-a30b-a2ff961823d8",
   "metadata": {},
   "outputs": [],
   "source": [
    "data_train = utils.prepare_func(path_train, path_features)"
   ]
  },
  {
   "cell_type": "code",
   "execution_count": 4,
   "id": "a5ac438e-f58f-4c88-bda4-1bf07467892e",
   "metadata": {},
   "outputs": [],
   "source": [
    "data_test = utils.prepare_func(path_test, path_features)"
   ]
  },
  {
   "cell_type": "code",
   "execution_count": 5,
   "id": "6d6b7339-5477-4880-a304-92bfcc60410e",
   "metadata": {},
   "outputs": [
    {
     "data": {
      "text/html": [
       "<div>\n",
       "<style scoped>\n",
       "    .dataframe tbody tr th:only-of-type {\n",
       "        vertical-align: middle;\n",
       "    }\n",
       "\n",
       "    .dataframe tbody tr th {\n",
       "        vertical-align: top;\n",
       "    }\n",
       "\n",
       "    .dataframe thead th {\n",
       "        text-align: right;\n",
       "    }\n",
       "</style>\n",
       "<table border=\"1\" class=\"dataframe\">\n",
       "  <thead>\n",
       "    <tr style=\"text-align: right;\">\n",
       "      <th></th>\n",
       "      <th>id</th>\n",
       "      <th>vas_id</th>\n",
       "      <th>buy_time_x</th>\n",
       "      <th>target</th>\n",
       "      <th>0</th>\n",
       "      <th>1</th>\n",
       "      <th>2</th>\n",
       "      <th>3</th>\n",
       "      <th>4</th>\n",
       "      <th>5</th>\n",
       "      <th>...</th>\n",
       "      <th>245</th>\n",
       "      <th>246</th>\n",
       "      <th>247</th>\n",
       "      <th>248</th>\n",
       "      <th>249</th>\n",
       "      <th>250</th>\n",
       "      <th>251</th>\n",
       "      <th>252</th>\n",
       "      <th>month</th>\n",
       "      <th>number_of_week</th>\n",
       "    </tr>\n",
       "  </thead>\n",
       "  <tbody>\n",
       "    <tr>\n",
       "      <th>822009</th>\n",
       "      <td>233938</td>\n",
       "      <td>2.0</td>\n",
       "      <td>1546203600</td>\n",
       "      <td>0.0</td>\n",
       "      <td>136.950029</td>\n",
       "      <td>738.710888</td>\n",
       "      <td>140.379214</td>\n",
       "      <td>730.593202</td>\n",
       "      <td>134.961754</td>\n",
       "      <td>709.48821</td>\n",
       "      <td>...</td>\n",
       "      <td>-25.996269</td>\n",
       "      <td>-37.630448</td>\n",
       "      <td>-294.747724</td>\n",
       "      <td>34.167111</td>\n",
       "      <td>-0.694428</td>\n",
       "      <td>-12.175933</td>\n",
       "      <td>-0.45614</td>\n",
       "      <td>1.0</td>\n",
       "      <td>12</td>\n",
       "      <td>4</td>\n",
       "    </tr>\n",
       "    <tr>\n",
       "      <th>825277</th>\n",
       "      <td>1526778</td>\n",
       "      <td>2.0</td>\n",
       "      <td>1546203600</td>\n",
       "      <td>0.0</td>\n",
       "      <td>-84.089971</td>\n",
       "      <td>-268.349112</td>\n",
       "      <td>-98.030786</td>\n",
       "      <td>-320.956798</td>\n",
       "      <td>-103.448246</td>\n",
       "      <td>-342.06179</td>\n",
       "      <td>...</td>\n",
       "      <td>-25.996269</td>\n",
       "      <td>-37.630448</td>\n",
       "      <td>-306.747724</td>\n",
       "      <td>-25.832889</td>\n",
       "      <td>-0.694428</td>\n",
       "      <td>-12.175933</td>\n",
       "      <td>-0.45614</td>\n",
       "      <td>0.0</td>\n",
       "      <td>12</td>\n",
       "      <td>4</td>\n",
       "    </tr>\n",
       "    <tr>\n",
       "      <th>852324</th>\n",
       "      <td>3336483</td>\n",
       "      <td>2.0</td>\n",
       "      <td>1546203600</td>\n",
       "      <td>0.0</td>\n",
       "      <td>-90.699971</td>\n",
       "      <td>-99.359112</td>\n",
       "      <td>-104.640786</td>\n",
       "      <td>-151.966798</td>\n",
       "      <td>-110.058246</td>\n",
       "      <td>-173.07179</td>\n",
       "      <td>...</td>\n",
       "      <td>-21.996269</td>\n",
       "      <td>-36.630448</td>\n",
       "      <td>771.252276</td>\n",
       "      <td>-21.832889</td>\n",
       "      <td>-0.694428</td>\n",
       "      <td>-12.175933</td>\n",
       "      <td>-0.45614</td>\n",
       "      <td>0.0</td>\n",
       "      <td>12</td>\n",
       "      <td>4</td>\n",
       "    </tr>\n",
       "    <tr>\n",
       "      <th>845060</th>\n",
       "      <td>2453583</td>\n",
       "      <td>2.0</td>\n",
       "      <td>1546203600</td>\n",
       "      <td>0.0</td>\n",
       "      <td>-96.799971</td>\n",
       "      <td>100.290888</td>\n",
       "      <td>-110.740786</td>\n",
       "      <td>47.683202</td>\n",
       "      <td>-116.158246</td>\n",
       "      <td>26.57821</td>\n",
       "      <td>...</td>\n",
       "      <td>-25.996269</td>\n",
       "      <td>-37.630448</td>\n",
       "      <td>1168.252276</td>\n",
       "      <td>381.167111</td>\n",
       "      <td>-0.694428</td>\n",
       "      <td>169.824067</td>\n",
       "      <td>-0.45614</td>\n",
       "      <td>0.0</td>\n",
       "      <td>12</td>\n",
       "      <td>4</td>\n",
       "    </tr>\n",
       "    <tr>\n",
       "      <th>849327</th>\n",
       "      <td>133439</td>\n",
       "      <td>4.0</td>\n",
       "      <td>1546203600</td>\n",
       "      <td>0.0</td>\n",
       "      <td>-75.609971</td>\n",
       "      <td>176.580888</td>\n",
       "      <td>-89.550786</td>\n",
       "      <td>135.833202</td>\n",
       "      <td>-94.968246</td>\n",
       "      <td>114.72821</td>\n",
       "      <td>...</td>\n",
       "      <td>-25.996269</td>\n",
       "      <td>-37.630448</td>\n",
       "      <td>-303.747724</td>\n",
       "      <td>-25.832889</td>\n",
       "      <td>-0.694428</td>\n",
       "      <td>-12.175933</td>\n",
       "      <td>-0.45614</td>\n",
       "      <td>0.0</td>\n",
       "      <td>12</td>\n",
       "      <td>4</td>\n",
       "    </tr>\n",
       "  </tbody>\n",
       "</table>\n",
       "<p>5 rows × 259 columns</p>\n",
       "</div>"
      ],
      "text/plain": [
       "             id  vas_id  buy_time_x  target           0           1  \\\n",
       "822009   233938     2.0  1546203600     0.0  136.950029  738.710888   \n",
       "825277  1526778     2.0  1546203600     0.0  -84.089971 -268.349112   \n",
       "852324  3336483     2.0  1546203600     0.0  -90.699971  -99.359112   \n",
       "845060  2453583     2.0  1546203600     0.0  -96.799971  100.290888   \n",
       "849327   133439     4.0  1546203600     0.0  -75.609971  176.580888   \n",
       "\n",
       "                 2           3           4          5  ...        245  \\\n",
       "822009  140.379214  730.593202  134.961754  709.48821  ... -25.996269   \n",
       "825277  -98.030786 -320.956798 -103.448246 -342.06179  ... -25.996269   \n",
       "852324 -104.640786 -151.966798 -110.058246 -173.07179  ... -21.996269   \n",
       "845060 -110.740786   47.683202 -116.158246   26.57821  ... -25.996269   \n",
       "849327  -89.550786  135.833202  -94.968246  114.72821  ... -25.996269   \n",
       "\n",
       "              246          247         248       249         250      251  \\\n",
       "822009 -37.630448  -294.747724   34.167111 -0.694428  -12.175933 -0.45614   \n",
       "825277 -37.630448  -306.747724  -25.832889 -0.694428  -12.175933 -0.45614   \n",
       "852324 -36.630448   771.252276  -21.832889 -0.694428  -12.175933 -0.45614   \n",
       "845060 -37.630448  1168.252276  381.167111 -0.694428  169.824067 -0.45614   \n",
       "849327 -37.630448  -303.747724  -25.832889 -0.694428  -12.175933 -0.45614   \n",
       "\n",
       "        252  month  number_of_week  \n",
       "822009  1.0     12               4  \n",
       "825277  0.0     12               4  \n",
       "852324  0.0     12               4  \n",
       "845060  0.0     12               4  \n",
       "849327  0.0     12               4  \n",
       "\n",
       "[5 rows x 259 columns]"
      ]
     },
     "execution_count": 5,
     "metadata": {},
     "output_type": "execute_result"
    }
   ],
   "source": [
    "data_train.head()"
   ]
  },
  {
   "cell_type": "code",
   "execution_count": 6,
   "id": "ed392624-7484-4c3d-9651-d5b29a8e5568",
   "metadata": {},
   "outputs": [
    {
     "data": {
      "text/html": [
       "<div>\n",
       "<style scoped>\n",
       "    .dataframe tbody tr th:only-of-type {\n",
       "        vertical-align: middle;\n",
       "    }\n",
       "\n",
       "    .dataframe tbody tr th {\n",
       "        vertical-align: top;\n",
       "    }\n",
       "\n",
       "    .dataframe thead th {\n",
       "        text-align: right;\n",
       "    }\n",
       "</style>\n",
       "<table border=\"1\" class=\"dataframe\">\n",
       "  <thead>\n",
       "    <tr style=\"text-align: right;\">\n",
       "      <th></th>\n",
       "      <th>id</th>\n",
       "      <th>vas_id</th>\n",
       "      <th>buy_time_x</th>\n",
       "      <th>0</th>\n",
       "      <th>1</th>\n",
       "      <th>2</th>\n",
       "      <th>3</th>\n",
       "      <th>4</th>\n",
       "      <th>5</th>\n",
       "      <th>6</th>\n",
       "      <th>...</th>\n",
       "      <th>245</th>\n",
       "      <th>246</th>\n",
       "      <th>247</th>\n",
       "      <th>248</th>\n",
       "      <th>249</th>\n",
       "      <th>250</th>\n",
       "      <th>251</th>\n",
       "      <th>252</th>\n",
       "      <th>month</th>\n",
       "      <th>number_of_week</th>\n",
       "    </tr>\n",
       "  </thead>\n",
       "  <tbody>\n",
       "    <tr>\n",
       "      <th>48190</th>\n",
       "      <td>3793438</td>\n",
       "      <td>2.0</td>\n",
       "      <td>1547413200</td>\n",
       "      <td>0.0</td>\n",
       "      <td>0.0</td>\n",
       "      <td>0.0</td>\n",
       "      <td>0.0</td>\n",
       "      <td>0.0</td>\n",
       "      <td>0.0</td>\n",
       "      <td>0.0</td>\n",
       "      <td>...</td>\n",
       "      <td>0.0</td>\n",
       "      <td>0.0</td>\n",
       "      <td>0.0</td>\n",
       "      <td>0.0</td>\n",
       "      <td>0.0</td>\n",
       "      <td>0.0</td>\n",
       "      <td>0.0</td>\n",
       "      <td>0.0</td>\n",
       "      <td>1</td>\n",
       "      <td>2</td>\n",
       "    </tr>\n",
       "    <tr>\n",
       "      <th>5776</th>\n",
       "      <td>3256899</td>\n",
       "      <td>2.0</td>\n",
       "      <td>1546808400</td>\n",
       "      <td>0.0</td>\n",
       "      <td>0.0</td>\n",
       "      <td>0.0</td>\n",
       "      <td>0.0</td>\n",
       "      <td>0.0</td>\n",
       "      <td>0.0</td>\n",
       "      <td>0.0</td>\n",
       "      <td>...</td>\n",
       "      <td>0.0</td>\n",
       "      <td>0.0</td>\n",
       "      <td>0.0</td>\n",
       "      <td>0.0</td>\n",
       "      <td>0.0</td>\n",
       "      <td>0.0</td>\n",
       "      <td>0.0</td>\n",
       "      <td>0.0</td>\n",
       "      <td>1</td>\n",
       "      <td>1</td>\n",
       "    </tr>\n",
       "    <tr>\n",
       "      <th>43610</th>\n",
       "      <td>1766065</td>\n",
       "      <td>2.0</td>\n",
       "      <td>1547413200</td>\n",
       "      <td>0.0</td>\n",
       "      <td>0.0</td>\n",
       "      <td>0.0</td>\n",
       "      <td>0.0</td>\n",
       "      <td>0.0</td>\n",
       "      <td>0.0</td>\n",
       "      <td>0.0</td>\n",
       "      <td>...</td>\n",
       "      <td>0.0</td>\n",
       "      <td>0.0</td>\n",
       "      <td>0.0</td>\n",
       "      <td>0.0</td>\n",
       "      <td>0.0</td>\n",
       "      <td>0.0</td>\n",
       "      <td>0.0</td>\n",
       "      <td>0.0</td>\n",
       "      <td>1</td>\n",
       "      <td>2</td>\n",
       "    </tr>\n",
       "    <tr>\n",
       "      <th>6733</th>\n",
       "      <td>3040181</td>\n",
       "      <td>6.0</td>\n",
       "      <td>1546808400</td>\n",
       "      <td>0.0</td>\n",
       "      <td>0.0</td>\n",
       "      <td>0.0</td>\n",
       "      <td>0.0</td>\n",
       "      <td>0.0</td>\n",
       "      <td>0.0</td>\n",
       "      <td>0.0</td>\n",
       "      <td>...</td>\n",
       "      <td>0.0</td>\n",
       "      <td>0.0</td>\n",
       "      <td>0.0</td>\n",
       "      <td>0.0</td>\n",
       "      <td>0.0</td>\n",
       "      <td>0.0</td>\n",
       "      <td>0.0</td>\n",
       "      <td>0.0</td>\n",
       "      <td>1</td>\n",
       "      <td>1</td>\n",
       "    </tr>\n",
       "    <tr>\n",
       "      <th>6746</th>\n",
       "      <td>3427825</td>\n",
       "      <td>5.0</td>\n",
       "      <td>1546808400</td>\n",
       "      <td>0.0</td>\n",
       "      <td>0.0</td>\n",
       "      <td>0.0</td>\n",
       "      <td>0.0</td>\n",
       "      <td>0.0</td>\n",
       "      <td>0.0</td>\n",
       "      <td>0.0</td>\n",
       "      <td>...</td>\n",
       "      <td>0.0</td>\n",
       "      <td>0.0</td>\n",
       "      <td>0.0</td>\n",
       "      <td>0.0</td>\n",
       "      <td>0.0</td>\n",
       "      <td>0.0</td>\n",
       "      <td>0.0</td>\n",
       "      <td>0.0</td>\n",
       "      <td>1</td>\n",
       "      <td>1</td>\n",
       "    </tr>\n",
       "  </tbody>\n",
       "</table>\n",
       "<p>5 rows × 258 columns</p>\n",
       "</div>"
      ],
      "text/plain": [
       "            id  vas_id  buy_time_x    0    1    2    3    4    5    6  ...  \\\n",
       "48190  3793438     2.0  1547413200  0.0  0.0  0.0  0.0  0.0  0.0  0.0  ...   \n",
       "5776   3256899     2.0  1546808400  0.0  0.0  0.0  0.0  0.0  0.0  0.0  ...   \n",
       "43610  1766065     2.0  1547413200  0.0  0.0  0.0  0.0  0.0  0.0  0.0  ...   \n",
       "6733   3040181     6.0  1546808400  0.0  0.0  0.0  0.0  0.0  0.0  0.0  ...   \n",
       "6746   3427825     5.0  1546808400  0.0  0.0  0.0  0.0  0.0  0.0  0.0  ...   \n",
       "\n",
       "       245  246  247  248  249  250  251  252  month  number_of_week  \n",
       "48190  0.0  0.0  0.0  0.0  0.0  0.0  0.0  0.0      1               2  \n",
       "5776   0.0  0.0  0.0  0.0  0.0  0.0  0.0  0.0      1               1  \n",
       "43610  0.0  0.0  0.0  0.0  0.0  0.0  0.0  0.0      1               2  \n",
       "6733   0.0  0.0  0.0  0.0  0.0  0.0  0.0  0.0      1               1  \n",
       "6746   0.0  0.0  0.0  0.0  0.0  0.0  0.0  0.0      1               1  \n",
       "\n",
       "[5 rows x 258 columns]"
      ]
     },
     "execution_count": 6,
     "metadata": {},
     "output_type": "execute_result"
    }
   ],
   "source": [
    "data_test.head()"
   ]
  },
  {
   "cell_type": "markdown",
   "id": "2f2ed5cc-93ff-47d6-9d61-6b3392a151d9",
   "metadata": {},
   "source": [
    "### 1 Разделяем на train и test"
   ]
  },
  {
   "cell_type": "code",
   "execution_count": 7,
   "id": "867a5f58-e2cf-4e59-85de-0f91e4a328b3",
   "metadata": {},
   "outputs": [],
   "source": [
    "X = data_train.drop('target', axis=1)\n",
    "y = data_train['target']"
   ]
  },
  {
   "cell_type": "code",
   "execution_count": 8,
   "id": "158f0ce1-25d9-4be0-95e3-3f7e28dd505d",
   "metadata": {},
   "outputs": [
    {
     "data": {
      "text/plain": [
       "0.0    0.930973\n",
       "1.0    0.069027\n",
       "Name: target, dtype: float64"
      ]
     },
     "execution_count": 8,
     "metadata": {},
     "output_type": "execute_result"
    },
    {
     "data": {
      "image/png": "[encoded data removed]",
      "text/plain": [
       "<Figure size 432x288 with 1 Axes>"
      ]
     },
     "metadata": {
      "needs_background": "light"
     },
     "output_type": "display_data"
    }
   ],
   "source": [
    "(y.value_counts()/y.shape[0]).plot(kind='bar', title='Распределение целевой переменной');\n",
    "y.value_counts()/y.shape"
   ]
  },
  {
   "cell_type": "code",
   "execution_count": 9,
   "id": "88513f4b-49cc-4a8d-98c2-c1c4c126b3fe",
   "metadata": {},
   "outputs": [],
   "source": [
    "from sklearn.model_selection import train_test_split\n",
    "\n",
    "# Зафиксируем значение random_state для воспроизводимости результатов.\n",
    "RANDOM_STATE = 888\n",
    "\n",
    "train_idx, test_idx = train_test_split(X.index, test_size=0.25, random_state=RANDOM_STATE)\n",
    "\n",
    "y_train, y_test = y.loc[train_idx], y.loc[test_idx]\n",
    "X_train, X_test = X.loc[train_idx], X.loc[test_idx]"
   ]
  },
  {
   "cell_type": "code",
   "execution_count": 10,
   "id": "3d1ed66f-4ee3-480b-87dd-65a22ee37ef7",
   "metadata": {},
   "outputs": [
    {
     "name": "stdout",
     "output_type": "stream",
     "text": [
      "Train\n",
      "0.0    0.931077\n",
      "1.0    0.068923\n",
      "Name: target, dtype: float64\n",
      "\n",
      "Test\n",
      "0.0    0.930662\n",
      "1.0    0.069338\n",
      "Name: target, dtype: float64\n"
     ]
    }
   ],
   "source": [
    "print(\"Train\")\n",
    "print(y.loc[train_idx].value_counts()/train_idx.shape[0])\n",
    "print()\n",
    "print(\"Test\")\n",
    "print(y.loc[test_idx].value_counts()/test_idx.shape[0])"
   ]
  },
  {
   "cell_type": "markdown",
   "id": "13607d0c-d643-47e6-9365-959fbebe5a47",
   "metadata": {},
   "source": [
    "### 2 Pipeline для baseline модели"
   ]
  },
  {
   "cell_type": "code",
   "execution_count": 11,
   "id": "c5764291-92f8-431c-bd11-ceac1628e8ac",
   "metadata": {},
   "outputs": [],
   "source": [
    "#!pip install catboost"
   ]
  },
  {
   "cell_type": "code",
   "execution_count": 12,
   "id": "70bbc7d8-cd25-463b-8462-fc872382d40d",
   "metadata": {},
   "outputs": [],
   "source": [
    "import catboost as catb"
   ]
  },
  {
   "cell_type": "code",
   "execution_count": 13,
   "id": "05aaa964-2604-47d4-8051-e0a4ea6c8ff2",
   "metadata": {},
   "outputs": [],
   "source": [
    "catb_model = ('catb_model', catb.CatBoostClassifier(random_state=RANDOM_STATE, logging_level='Silent'))"
   ]
  },
  {
   "cell_type": "code",
   "execution_count": 14,
   "id": "aa083b89-4525-4634-b74b-9b672326091d",
   "metadata": {},
   "outputs": [],
   "source": [
    "from sklearn.impute import SimpleImputer"
   ]
  },
  {
   "cell_type": "code",
   "execution_count": 15,
   "id": "cc6b5bae-efee-4057-902e-fbcc93df4a2f",
   "metadata": {},
   "outputs": [],
   "source": [
    "step_imputer = (\"imputer\", SimpleImputer(strategy=\"mean\"))"
   ]
  },
  {
   "cell_type": "code",
   "execution_count": 16,
   "id": "ffab289c-18ad-4a67-bd57-7424bf5008ce",
   "metadata": {},
   "outputs": [],
   "source": [
    "from sklearn.pipeline import Pipeline\n",
    "\n",
    "bl_estimator = Pipeline([\n",
    "    step_imputer,\n",
    "    catb_model\n",
    "])"
   ]
  },
  {
   "cell_type": "markdown",
   "id": "013cd341-181a-45d3-9fe1-c5a63c0f6716",
   "metadata": {},
   "source": [
    "### 3 Кросс-валидация"
   ]
  },
  {
   "cell_type": "code",
   "execution_count": 17,
   "id": "4ca3d6b4-6806-4c82-b794-d3157885f7c3",
   "metadata": {},
   "outputs": [],
   "source": [
    "from sklearn.model_selection import KFold\n",
    "from sklearn.model_selection import cross_validate\n",
    "\n",
    "kfold_cv = KFold(n_splits=3, shuffle=True, random_state=RANDOM_STATE)\n",
    "\n",
    "def run_cv(estimator, cv, X, y, scoring='roc_auc', model_name=\"\"):\n",
    "    cv_res = cross_validate(estimator, X, y, cv=cv, scoring=scoring, n_jobs=-1)\n",
    "    \n",
    "    print(\"%s: %s = %0.2f (+/- %0.2f)\" % (model_name,\n",
    "                                         scoring,\n",
    "                                         cv_res['test_score'].mean(),\n",
    "                                         cv_res['test_score'].std() * 2))"
   ]
  },
  {
   "cell_type": "code",
   "execution_count": 18,
   "id": "41544058-63f8-4fcd-869e-452813d03e61",
   "metadata": {},
   "outputs": [
    {
     "name": "stdout",
     "output_type": "stream",
     "text": [
      "Baseline: roc_auc = 0.93 (+/- 0.00)\n"
     ]
    }
   ],
   "source": [
    "run_cv(bl_estimator, kfold_cv, X_train, y_train, model_name=\"Baseline\");"
   ]
  },
  {
   "cell_type": "markdown",
   "id": "4992f890-87c4-40e9-a8b0-652610226714",
   "metadata": {},
   "source": [
    "### 4 Графики и метрики baseline модели на тесте"
   ]
  },
  {
   "cell_type": "code",
   "execution_count": 19,
   "id": "e981df86-5d00-488d-bce9-591f9d824af6",
   "metadata": {},
   "outputs": [],
   "source": [
    "bl_estimator.fit(X_train, y_train)\n",
    "\n",
    "bl_y_pred = bl_estimator.predict_proba(X_test)[:,1]"
   ]
  },
  {
   "cell_type": "markdown",
   "id": "588245ce-0499-45d4-847d-be0335c5fdb0",
   "metadata": {},
   "source": [
    "#### Распределение предсказаний baseline модели"
   ]
  },
  {
   "cell_type": "code",
   "execution_count": 20,
   "id": "86d6c8b6-7d9e-4b1f-872e-0a98b8d83a25",
   "metadata": {},
   "outputs": [
    {
     "data": {
      "image/png": "[encoded data removed]",
      "text/plain": [
       "<Figure size 432x288 with 1 Axes>"
      ]
     },
     "metadata": {
      "needs_background": "light"
     },
     "output_type": "display_data"
    }
   ],
   "source": [
    "plt.title(\"Baseline: распределение предсказаний модели\")\n",
    "plt.hist(bl_y_pred[~y_test.astype(bool)], bins=100, color='r', alpha=0.7);\n",
    "plt.hist(bl_y_pred[y_test.astype(bool)], bins=100, color='b', alpha=0.7);"
   ]
  },
  {
   "cell_type": "markdown",
   "id": "79261987-8a68-4087-ab68-e750971464e4",
   "metadata": {},
   "source": [
    "#### Roc и PR Кривые"
   ]
  },
  {
   "cell_type": "code",
   "execution_count": 21,
   "id": "1cbfb6d7-53d6-4371-adb3-5243d64ebdd9",
   "metadata": {},
   "outputs": [],
   "source": [
    "from sklearn.metrics import precision_recall_curve, roc_curve, auc\n",
    "\n",
    "fpr, tpr, roc_thresholds = roc_curve(y_test, bl_y_pred)\n",
    "precision, recall, pr_thresholds = precision_recall_curve(y_test, bl_y_pred)"
   ]
  },
  {
   "cell_type": "code",
   "execution_count": 22,
   "id": "f0a51323-d3a7-465a-a031-3ee48ff3aa6a",
   "metadata": {},
   "outputs": [
    {
     "name": "stdout",
     "output_type": "stream",
     "text": [
      "Baseline: AUC_ROC = 0.932\n"
     ]
    },
    {
     "data": {
      "image/png": "[encoded data removed]",
      "text/plain": [
       "<Figure size 504x504 with 1 Axes>"
      ]
     },
     "metadata": {
      "needs_background": "light"
     },
     "output_type": "display_data"
    }
   ],
   "source": [
    "def plot_roc_curve(fpr, tpr, model_name=\"\", color=None):\n",
    "    plt.plot(fpr, tpr, label='%s: ROC curve (area = %0.2f)' %\n",
    "             (model_name, auc(fpr, tpr)), color=color)\n",
    "    plt.plot([0, 1], [0, 1], 'k--')\n",
    "    plt.axis([0.0, 1.0, 0.0, 1.05])\n",
    "    plt.xlabel('False Positive Rate')\n",
    "    plt.ylabel('True Positive Rate')\n",
    "    plt.title('%s: Receiver operating characteristic curve' % model_name)\n",
    "    plt.legend(loc=\"lower right\")\n",
    "\n",
    "plt.figure(figsize=(7, 7))\n",
    "plot_roc_curve(fpr, tpr, \"Baseline\", color='r')\n",
    "print(\"Baseline: AUC_ROC = %.3f\" % auc(fpr, tpr))"
   ]
  },
  {
   "cell_type": "code",
   "execution_count": 23,
   "id": "e08b00fa-462d-4eda-a822-a5430d47970e",
   "metadata": {},
   "outputs": [
    {
     "name": "stdout",
     "output_type": "stream",
     "text": [
      "Baseline: AUC_PR = 0.554\n"
     ]
    },
    {
     "data": {
      "image/png": "[encoded data removed]",
      "text/plain": [
       "<Figure size 504x504 with 1 Axes>"
      ]
     },
     "metadata": {
      "needs_background": "light"
     },
     "output_type": "display_data"
    }
   ],
   "source": [
    "def plot_precision_recall_curve(recall, precision, model_name=\"\", color=None):\n",
    "    plt.plot(recall, precision, label='%s: Precision-Recall curve (area = %0.2f)' %\n",
    "             (model_name, auc(recall, precision)), color=color)\n",
    "    plt.xlabel('Recall')\n",
    "    plt.ylabel('Precision')\n",
    "    plt.title(\"%s: Precision-Recall curve\" % model_name)\n",
    "    plt.axis([0.0, 1.0, 0.0, 1.05])\n",
    "    plt.legend(loc=\"lower left\")\n",
    "\n",
    "plt.figure(figsize=(7, 7))\n",
    "    \n",
    "plot_precision_recall_curve(recall, precision, \"Baseline\", color='r')\n",
    "print(\"Baseline: AUC_PR = %.3f\" % auc(recall, precision))"
   ]
  },
  {
   "cell_type": "markdown",
   "id": "49121131-7f3c-4206-bf73-3332ce76e680",
   "metadata": {},
   "source": [
    "#### Матрица смежности"
   ]
  },
  {
   "cell_type": "code",
   "execution_count": 24,
   "id": "cde13bd1-aced-4d1f-ab55-6f6f385c26ea",
   "metadata": {},
   "outputs": [],
   "source": [
    "import itertools\n",
    "from sklearn.metrics import confusion_matrix\n",
    "\n",
    "def plot_confusion_matrix(cm, classes,\n",
    "                          model_name=\"\",\n",
    "                          normalize=False,\n",
    "                          cmap=plt.cm.Blues):\n",
    "    \"\"\"\n",
    "    This function prints and plots the confusion matrix.\n",
    "    Normalization can be applied by setting `normalize=True`.\n",
    "    \"\"\"\n",
    "    if normalize:\n",
    "        cm = cm.astype('float') / cm.sum(axis=1)[:, np.newaxis]\n",
    "        print(\"Normalized confusion matrix\")\n",
    "    else:\n",
    "        print('Confusion matrix, without normalization')\n",
    "\n",
    "    print(cm)\n",
    "\n",
    "    plt.imshow(cm, interpolation='nearest',  cmap=cmap)\n",
    "    \n",
    "    plt.grid(False)\n",
    "    plt.title('%s: confusion matrix' % model_name)\n",
    "    tick_marks = np.arange(len(classes))\n",
    "    plt.xticks(tick_marks, classes, rotation=45)\n",
    "    plt.yticks(tick_marks, classes)\n",
    "\n",
    "    fmt = '.2f' if normalize else 'd'\n",
    "    thresh = cm.max() / 2.\n",
    "    for i, j in itertools.product(range(cm.shape[0]), range(cm.shape[1])):\n",
    "        plt.text(j, i, format(cm[i, j], fmt),\n",
    "                 horizontalalignment=\"center\",\n",
    "                 color=\"white\" if cm[i, j] > thresh else \"black\")\n",
    "\n",
    "    plt.ylabel('True label')\n",
    "    plt.xlabel('Predicted label')\n",
    "    plt.tight_layout()"
   ]
  },
  {
   "cell_type": "code",
   "execution_count": 25,
   "id": "56e18842-41db-4f94-ab93-9e8c1c8ff29b",
   "metadata": {},
   "outputs": [
    {
     "name": "stdout",
     "output_type": "stream",
     "text": [
      "Confusion matrix, without normalization\n",
      "[[189626   2417]\n",
      " [ 10180   4128]]\n"
     ]
    },
    {
     "data": {
      "image/png": "[encoded data removed]",
      "text/plain": [
       "<Figure size 432x288 with 1 Axes>"
      ]
     },
     "metadata": {
      "needs_background": "light"
     },
     "output_type": "display_data"
    }
   ],
   "source": [
    "# TN                FP(Type II error)\n",
    "# \n",
    "# FN(Type I error)  TP\n",
    "\n",
    "cm = confusion_matrix(y_test, bl_y_pred > 0.5)\n",
    "plot_confusion_matrix(cm, classes=[\"0\", \"1\"], model_name=\"Baseline\");"
   ]
  },
  {
   "cell_type": "markdown",
   "id": "561cb060-a708-4fc1-b3d3-33342f12d8a8",
   "metadata": {},
   "source": [
    "#### classification_report"
   ]
  },
  {
   "cell_type": "code",
   "execution_count": 26,
   "id": "3e80b6fb-1f00-4f1f-948c-dcb5128962ff",
   "metadata": {},
   "outputs": [
    {
     "name": "stdout",
     "output_type": "stream",
     "text": [
      "              accuracy = 0.94\n",
      "           1 precision = 0.63\n",
      "              1 recall = 0.29\n",
      "   micro avg precision = 0.94 \n",
      "   macro avg precision = 0.79 \n",
      "weighted avg precision = 0.93 \n"
     ]
    }
   ],
   "source": [
    "tn, fp, fn, tp = cm.ravel()\n",
    "\n",
    "precision = tp/(fp + tp)\n",
    "recall = tp/(fn + tp)\n",
    "\n",
    "accuracy = (tp + tn)/(fp + fn + tp + tn)\n",
    "\n",
    "micro_avg_pr    = (tn + tp) / (fn + tn + fp + tp)\n",
    "macro_avg_pr    = (tn/(fn + tn) + tp/(fp + tp))/2\n",
    "\n",
    "n_0 = (y_test == 0).sum()\n",
    "n_1 = (y_test == 1).sum()\n",
    "weighted_avg_pr = (n_0*tn/(fn + tn) + n_1*tp/(fp + tp))/(n_0 + n_1)\n",
    "\n",
    "print(\"              accuracy = %.2f\"   % float(accuracy))\n",
    "print(\"           1 precision = %.2f\"   % float(precision))\n",
    "print(\"              1 recall = %.2f\"   % float(recall))\n",
    "print(\"   micro avg precision = %.2f \"  % float(micro_avg_pr))\n",
    "print(\"   macro avg precision = %.2f \"  % float(macro_avg_pr))\n",
    "print(\"weighted avg precision = %.2f \"  % float(weighted_avg_pr))"
   ]
  },
  {
   "cell_type": "markdown",
   "id": "dc041f45-53e8-403d-8c09-cce16dc0d516",
   "metadata": {},
   "source": [
    "# 5 Определение типа признаков"
   ]
  },
  {
   "cell_type": "code",
   "execution_count": 27,
   "id": "ac97e432-4993-4660-9f86-9a042268fdec",
   "metadata": {},
   "outputs": [],
   "source": [
    "X_nunique = X.apply(lambda x: x.nunique(dropna=False))"
   ]
  },
  {
   "cell_type": "code",
   "execution_count": 28,
   "id": "9a354a1d-d1ce-4621-8e4a-8f600c01a2be",
   "metadata": {},
   "outputs": [
    {
     "data": {
      "text/plain": [
       "(258,)"
      ]
     },
     "execution_count": 28,
     "metadata": {},
     "output_type": "execute_result"
    }
   ],
   "source": [
    "X_nunique.shape"
   ]
  },
  {
   "cell_type": "code",
   "execution_count": 29,
   "id": "2e976948-30db-47bb-ad24-844e2adea042",
   "metadata": {},
   "outputs": [
    {
     "data": {
      "image/png": "[encoded data removed]",
      "text/plain": [
       "<Figure size 720x360 with 1 Axes>"
      ]
     },
     "metadata": {
      "needs_background": "light"
     },
     "output_type": "display_data"
    }
   ],
   "source": [
    "plt.title(\"Распределение уникальных значений признаков\");\n",
    "X_nunique.hist(bins=100, figsize=(10, 5));"
   ]
  },
  {
   "cell_type": "code",
   "execution_count": 30,
   "id": "44b485c1-801b-433a-9141-2b2e2c8fd13f",
   "metadata": {},
   "outputs": [
    {
     "data": {
      "text/plain": [
       "258"
      ]
     },
     "execution_count": 30,
     "metadata": {},
     "output_type": "execute_result"
    }
   ],
   "source": [
    "f_all = set(X_nunique.index.tolist())\n",
    "len(f_all)"
   ]
  },
  {
   "cell_type": "markdown",
   "id": "33f6b739-b570-4879-8de3-1c002223be49",
   "metadata": {},
   "source": [
    "#### константные признаки"
   ]
  },
  {
   "cell_type": "code",
   "execution_count": 31,
   "id": "242971e6-c392-4f29-8da0-fa7ebe8263ab",
   "metadata": {},
   "outputs": [
    {
     "data": {
      "text/plain": [
       "5"
      ]
     },
     "execution_count": 31,
     "metadata": {},
     "output_type": "execute_result"
    }
   ],
   "source": [
    "f_const = set(X_nunique[X_nunique == 1].index.tolist())\n",
    "len(f_const)"
   ]
  },
  {
   "cell_type": "markdown",
   "id": "57287975-8a50-4530-9c75-2508c41e6780",
   "metadata": {},
   "source": [
    "#### вещественные признаки"
   ]
  },
  {
   "cell_type": "code",
   "execution_count": 32,
   "id": "7e1d5306-7d8d-4b94-916d-038140cb2e0c",
   "metadata": {},
   "outputs": [
    {
     "data": {
      "text/plain": [
       "247"
      ]
     },
     "execution_count": 32,
     "metadata": {},
     "output_type": "execute_result"
    }
   ],
   "source": [
    "f_numeric = (X.fillna(0).astype(int).sum() - X.fillna(0).sum()).abs()\n",
    "f_numeric = set(f_numeric[f_numeric > 0].index.tolist())\n",
    "len(f_numeric)"
   ]
  },
  {
   "cell_type": "code",
   "execution_count": 33,
   "id": "6f8870eb-0cbc-4337-b12c-3a6e8c393e63",
   "metadata": {},
   "outputs": [
    {
     "data": {
      "text/plain": [
       "6"
      ]
     },
     "execution_count": 33,
     "metadata": {},
     "output_type": "execute_result"
    }
   ],
   "source": [
    "f_other = f_all - (f_numeric | f_const)\n",
    "len(f_other)"
   ]
  },
  {
   "cell_type": "markdown",
   "id": "5da4f0a0-a962-47e8-abb4-c642393f2b82",
   "metadata": {},
   "source": [
    "#### бинарные"
   ]
  },
  {
   "cell_type": "code",
   "execution_count": 34,
   "id": "99c21f34-8cf6-4c1a-b80c-80c4daac0d31",
   "metadata": {},
   "outputs": [
    {
     "name": "stderr",
     "output_type": "stream",
     "text": [
      "C:\\Users\\Анна\\AppData\\Local\\Temp\\ipykernel_19176\\548895597.py:1: FutureWarning: Passing a set as an indexer is deprecated and will raise in a future version. Use a list instead.\n",
      "  f_binary = set(X.loc[:, f_other].columns[(\n",
      "C:\\Users\\Анна\\AppData\\Local\\Temp\\ipykernel_19176\\548895597.py:2: FutureWarning: Passing a set as an indexer is deprecated and will raise in a future version. Use a list instead.\n",
      "  (X.loc[:, f_other].max() == 1) & \\\n",
      "C:\\Users\\Анна\\AppData\\Local\\Temp\\ipykernel_19176\\548895597.py:3: FutureWarning: Passing a set as an indexer is deprecated and will raise in a future version. Use a list instead.\n",
      "  (X.loc[:, f_other].min() == 0) & \\\n",
      "C:\\Users\\Анна\\AppData\\Local\\Temp\\ipykernel_19176\\548895597.py:4: FutureWarning: Passing a set as an indexer is deprecated and will raise in a future version. Use a list instead.\n",
      "  (X.loc[:, f_other].isnull().sum() == 0))])\n"
     ]
    },
    {
     "data": {
      "text/plain": [
       "0"
      ]
     },
     "execution_count": 34,
     "metadata": {},
     "output_type": "execute_result"
    }
   ],
   "source": [
    "f_binary = set(X.loc[:, f_other].columns[(\n",
    "                      (X.loc[:, f_other].max() == 1) & \\\n",
    "                      (X.loc[:, f_other].min() == 0) & \\\n",
    "                      (X.loc[:, f_other].isnull().sum() == 0))])\n",
    "len(f_binary)"
   ]
  },
  {
   "cell_type": "code",
   "execution_count": 35,
   "id": "e4049f26-707b-4fa4-a318-2d10763a9a47",
   "metadata": {},
   "outputs": [
    {
     "data": {
      "text/plain": [
       "6"
      ]
     },
     "execution_count": 35,
     "metadata": {},
     "output_type": "execute_result"
    }
   ],
   "source": [
    "f_other = f_other - f_binary\n",
    "len(f_other)"
   ]
  },
  {
   "cell_type": "markdown",
   "id": "7b214d77-07a9-498e-8ce8-ada64880676e",
   "metadata": {},
   "source": [
    "#### категориальные"
   ]
  },
  {
   "cell_type": "code",
   "execution_count": 36,
   "id": "baed0a21-95b9-494e-b325-bb241895fcd3",
   "metadata": {},
   "outputs": [
    {
     "name": "stderr",
     "output_type": "stream",
     "text": [
      "C:\\Users\\Анна\\AppData\\Local\\Temp\\ipykernel_19176\\1387870911.py:1: FutureWarning: Passing a set as an indexer is deprecated and will raise in a future version. Use a list instead.\n",
      "  f_categorical = set(X_nunique.loc[f_other][X_nunique.loc[f_other] <= 10].index.tolist())\n",
      "C:\\Users\\Анна\\AppData\\Local\\Temp\\ipykernel_19176\\1387870911.py:1: FutureWarning: Passing a set as an indexer is deprecated and will raise in a future version. Use a list instead.\n",
      "  f_categorical = set(X_nunique.loc[f_other][X_nunique.loc[f_other] <= 10].index.tolist())\n"
     ]
    }
   ],
   "source": [
    "f_categorical = set(X_nunique.loc[f_other][X_nunique.loc[f_other] <= 10].index.tolist())\n",
    "f_numeric_extra = f_categorical"
   ]
  },
  {
   "cell_type": "code",
   "execution_count": 37,
   "id": "23e565d9-9c53-4296-9027-d4006fd60723",
   "metadata": {},
   "outputs": [
    {
     "data": {
      "text/plain": [
       "3"
      ]
     },
     "execution_count": 37,
     "metadata": {},
     "output_type": "execute_result"
    }
   ],
   "source": [
    "f_other = f_other - f_categorical\n",
    "len(f_other)"
   ]
  },
  {
   "cell_type": "code",
   "execution_count": 38,
   "id": "b186a7a9-3407-40ca-a6f3-2fa6e2b3a9f3",
   "metadata": {},
   "outputs": [],
   "source": [
    "f_numeric = f_numeric | f_other"
   ]
  },
  {
   "cell_type": "code",
   "execution_count": 39,
   "id": "c22e8543-ed28-4a54-9b2e-ecd57da53758",
   "metadata": {},
   "outputs": [
    {
     "data": {
      "text/plain": [
       "0"
      ]
     },
     "execution_count": 39,
     "metadata": {},
     "output_type": "execute_result"
    }
   ],
   "source": [
    "f_other = f_other - f_numeric\n",
    "len(f_other)"
   ]
  },
  {
   "cell_type": "code",
   "execution_count": 40,
   "id": "3f662b7b-d343-477c-8796-3664b5226d60",
   "metadata": {},
   "outputs": [],
   "source": [
    "assert(X_nunique.shape[0] == len(f_const) + len(f_binary) + len(f_numeric) + len(f_categorical))"
   ]
  },
  {
   "cell_type": "code",
   "execution_count": 41,
   "id": "a0ef797f-7ab3-4f8e-b762-d3c6af90c841",
   "metadata": {},
   "outputs": [
    {
     "name": "stdout",
     "output_type": "stream",
     "text": [
      "f_all: 258\n",
      "\n",
      "f_const: 5\n",
      "f_binary: 0\n",
      "f_categorical: 3\n",
      "f_numeric: 250\n"
     ]
    }
   ],
   "source": [
    "print('f_all:', X.shape[1])\n",
    "print()\n",
    "print('f_const:', len(f_const))\n",
    "print('f_binary:', len(f_binary))\n",
    "print('f_categorical:', len(f_categorical))\n",
    "print('f_numeric:', len(f_numeric))\n",
    "\n",
    "f_ok = list(f_binary | f_categorical | f_numeric)\n",
    "f_binary, f_categorical, f_numeric = list(f_binary), list(f_categorical), list(f_numeric)"
   ]
  },
  {
   "cell_type": "markdown",
   "id": "b002b49d-ff22-44d6-9e15-0f822a6a8c29",
   "metadata": {},
   "source": [
    "# 6 sklearn.Pipeline"
   ]
  },
  {
   "cell_type": "code",
   "execution_count": 42,
   "id": "86fe38cd-4eb6-404e-91bf-f9ae6e39ee12",
   "metadata": {},
   "outputs": [],
   "source": [
    "from sklearn.base import BaseEstimator, TransformerMixin"
   ]
  },
  {
   "cell_type": "code",
   "execution_count": 43,
   "id": "a686a772-ef60-4ab8-be37-05bee5d271e7",
   "metadata": {},
   "outputs": [],
   "source": [
    "class ColumnSelector(BaseEstimator, TransformerMixin):\n",
    "    def __init__(self, columns):\n",
    "        self.columns = columns\n",
    "\n",
    "    def fit(self, X, y=None):\n",
    "        return self\n",
    "    \n",
    "    def transform(self, X):\n",
    "        assert isinstance(X, pd.DataFrame)\n",
    "\n",
    "        try:\n",
    "            return X[self.columns]\n",
    "        except KeyError:\n",
    "            cols_error = list(set(self.columns) - set(X.columns))\n",
    "            raise KeyError(\"DataFrame не содердит следующие колонки: %s\" % cols_error)"
   ]
  },
  {
   "cell_type": "markdown",
   "id": "47f71f60-1ca4-4b00-86fe-5e1f803f77ac",
   "metadata": {},
   "source": [
    "### 7 Пайплайн обработки признаков\n"
   ]
  },
  {
   "cell_type": "code",
   "execution_count": 44,
   "id": "d520c930-ca55-429e-abe9-892ea3599163",
   "metadata": {},
   "outputs": [],
   "source": [
    "from sklearn.pipeline import FeatureUnion, make_pipeline\n",
    "from sklearn.preprocessing import StandardScaler, OneHotEncoder"
   ]
  },
  {
   "cell_type": "code",
   "execution_count": 45,
   "id": "9b4e043d-e772-4ef4-8440-4c803d488389",
   "metadata": {},
   "outputs": [],
   "source": [
    "f_prep_pipeline = make_pipeline(\n",
    "    ColumnSelector(columns=f_ok),\n",
    "    FeatureUnion(transformer_list=[\n",
    "        (\"numeric_features\", make_pipeline(\n",
    "            ColumnSelector(f_numeric),\n",
    "            SimpleImputer(strategy=\"mean\"),\n",
    "            StandardScaler()\n",
    "        )),\n",
    "        (\"categorical_features\", make_pipeline(\n",
    "            ColumnSelector(f_categorical),\n",
    "            SimpleImputer(strategy=\"most_frequent\"),\n",
    "            OneHotEncoder(handle_unknown='ignore')\n",
    "        ))\n",
    "    ])\n",
    ")"
   ]
  },
  {
   "cell_type": "code",
   "execution_count": 46,
   "id": "d90d0716-1d2a-4bb5-8f5b-1c7dca6910f8",
   "metadata": {},
   "outputs": [
    {
     "data": {
      "text/plain": [
       "269"
      ]
     },
     "execution_count": 46,
     "metadata": {},
     "output_type": "execute_result"
    }
   ],
   "source": [
    "f_prep_pipeline.fit(X_train)\n",
    "\n",
    "n_features = f_prep_pipeline.transform(X_test).shape[1]\n",
    "n_features"
   ]
  },
  {
   "cell_type": "markdown",
   "id": "9bfbc2ec-e6db-46ce-b4ee-8a2ac7116dc4",
   "metadata": {},
   "source": [
    "### 8 Выбор модели\n"
   ]
  },
  {
   "cell_type": "code",
   "execution_count": 47,
   "id": "513a8191-b4b9-4164-9558-83cca39d0858",
   "metadata": {},
   "outputs": [],
   "source": [
    "def training(classifier):\n",
    "    from sklearn.metrics import roc_auc_score\n",
    "\n",
    "    #обучим пайплайн на всем тренировочном датасете\n",
    "    classifier.fit(X_train, y_train)\n",
    "    y_score = classifier.predict_proba(X_test)[:, 1]\n",
    "    \n",
    "    # расчтаем метрики\n",
    "    b = 1\n",
    "    precision, recall, thresholds = precision_recall_curve(y_test.values, y_score)\n",
    "    fscore = (1 + b**2) * (precision * recall) / (b**2 * precision + recall)\n",
    "    roc_auc_score = roc_auc_score(y_test, y_score)\n",
    "    ix = np.argmax(fscore)\n",
    "    \n",
    " \n",
    "    return [round(i, 3) for i in [thresholds[ix], fscore[ix], precision[ix], recall[ix], roc_auc_score]]"
   ]
  },
  {
   "cell_type": "code",
   "execution_count": 48,
   "id": "256bc07b-795b-419e-9118-f433a31cf89e",
   "metadata": {},
   "outputs": [],
   "source": [
    "#!pip install lightgbm"
   ]
  },
  {
   "cell_type": "code",
   "execution_count": 49,
   "id": "740a7983-6dca-46c4-8fd8-5f1ffc42a396",
   "metadata": {},
   "outputs": [],
   "source": [
    "from sklearn.linear_model import LogisticRegression\n",
    "from sklearn.ensemble import RandomForestClassifier\n",
    "from sklearn.tree import DecisionTreeClassifier\n",
    "from sklearn.ensemble import GradientBoostingClassifier\n",
    "import lightgbm as lgb"
   ]
  },
  {
   "cell_type": "code",
   "execution_count": 75,
   "id": "4c78ebec-6fa4-4c6f-b5e3-c9d3c6529979",
   "metadata": {},
   "outputs": [
    {
     "name": "stderr",
     "output_type": "stream",
     "text": [
      "D:\\Anaconda\\lib\\site-packages\\sklearn\\linear_model\\_logistic.py:814: ConvergenceWarning: lbfgs failed to converge (status=1):\n",
      "STOP: TOTAL NO. of ITERATIONS REACHED LIMIT.\n",
      "\n",
      "Increase the number of iterations (max_iter) or scale the data as shown in:\n",
      "    https://scikit-learn.org/stable/modules/preprocessing.html\n",
      "Please also refer to the documentation for alternative solver options:\n",
      "    https://scikit-learn.org/stable/modules/linear_model.html#logistic-regression\n",
      "  n_iter_i = _check_optimize_result(\n",
      "C:\\Users\\Анна\\AppData\\Local\\Temp\\ipykernel_14004\\1603296245.py:11: RuntimeWarning: invalid value encountered in true_divide\n",
      "  fscore = (1 + b**2) * (precision * recall) / (b**2 * precision + recall)\n",
      "C:\\Users\\Анна\\AppData\\Local\\Temp\\ipykernel_14004\\1603296245.py:11: RuntimeWarning: invalid value encountered in true_divide\n",
      "  fscore = (1 + b**2) * (precision * recall) / (b**2 * precision + recall)\n",
      "C:\\Users\\Анна\\AppData\\Local\\Temp\\ipykernel_14004\\1603296245.py:11: RuntimeWarning: invalid value encountered in true_divide\n",
      "  fscore = (1 + b**2) * (precision * recall) / (b**2 * precision + recall)\n"
     ]
    }
   ],
   "source": [
    "results = pd.DataFrame([\n",
    "    training(classifier = make_pipeline(f_prep_pipeline, LogisticRegression(random_state=RANDOM_STATE))),\n",
    "    training(classifier = make_pipeline(f_prep_pipeline, RandomForestClassifier(random_state=RANDOM_STATE))),\n",
    "    training(classifier = make_pipeline(f_prep_pipeline, DecisionTreeClassifier(random_state=RANDOM_STATE))),\n",
    "    training(classifier = make_pipeline(f_prep_pipeline, catb.CatBoostClassifier(random_state=RANDOM_STATE, logging_level='Silent'))),\n",
    "    training(classifier = make_pipeline(f_prep_pipeline, GradientBoostingClassifier(random_state=RANDOM_STATE))),\n",
    "    training(classifier = make_pipeline(f_prep_pipeline, lgb.LGBMClassifier(random_state=RANDOM_STATE))),\n",
    "], columns=['Best Threshold', 'F', 'Precision', 'Recall', 'ROC AUC'])\n",
    "\n",
    "results['models'] = ['LogisticRegression', 'RandomForestClassifier', 'DecisionTreeClassifier', 'CatBoostClassifier', 'GradientBoostingClassifier', 'LGBMClassifier']\n",
    "results = results.set_index('models')"
   ]
  },
  {
   "cell_type": "code",
   "execution_count": 76,
   "id": "75b8775a-6b44-4cf4-861b-05813038008d",
   "metadata": {},
   "outputs": [
    {
     "data": {
      "text/html": [
       "<div>\n",
       "<style scoped>\n",
       "    .dataframe tbody tr th:only-of-type {\n",
       "        vertical-align: middle;\n",
       "    }\n",
       "\n",
       "    .dataframe tbody tr th {\n",
       "        vertical-align: top;\n",
       "    }\n",
       "\n",
       "    .dataframe thead th {\n",
       "        text-align: right;\n",
       "    }\n",
       "</style>\n",
       "<table border=\"1\" class=\"dataframe\">\n",
       "  <thead>\n",
       "    <tr style=\"text-align: right;\">\n",
       "      <th></th>\n",
       "      <th>Best Threshold</th>\n",
       "      <th>F</th>\n",
       "      <th>Precision</th>\n",
       "      <th>Recall</th>\n",
       "      <th>ROC AUC</th>\n",
       "    </tr>\n",
       "    <tr>\n",
       "      <th>models</th>\n",
       "      <th></th>\n",
       "      <th></th>\n",
       "      <th></th>\n",
       "      <th></th>\n",
       "      <th></th>\n",
       "    </tr>\n",
       "  </thead>\n",
       "  <tbody>\n",
       "    <tr>\n",
       "      <th>LogisticRegression</th>\n",
       "      <td>0.945</td>\n",
       "      <td>NaN</td>\n",
       "      <td>0.000</td>\n",
       "      <td>0.000</td>\n",
       "      <td>0.908</td>\n",
       "    </tr>\n",
       "    <tr>\n",
       "      <th>RandomForestClassifier</th>\n",
       "      <td>0.270</td>\n",
       "      <td>0.511</td>\n",
       "      <td>0.418</td>\n",
       "      <td>0.658</td>\n",
       "      <td>0.869</td>\n",
       "    </tr>\n",
       "    <tr>\n",
       "      <th>DecisionTreeClassifier</th>\n",
       "      <td>1.000</td>\n",
       "      <td>0.404</td>\n",
       "      <td>0.400</td>\n",
       "      <td>0.407</td>\n",
       "      <td>0.681</td>\n",
       "    </tr>\n",
       "    <tr>\n",
       "      <th>CatBoostClassifier</th>\n",
       "      <td>0.267</td>\n",
       "      <td>0.556</td>\n",
       "      <td>0.465</td>\n",
       "      <td>0.691</td>\n",
       "      <td>0.933</td>\n",
       "    </tr>\n",
       "    <tr>\n",
       "      <th>GradientBoostingClassifier</th>\n",
       "      <td>0.988</td>\n",
       "      <td>NaN</td>\n",
       "      <td>0.000</td>\n",
       "      <td>0.000</td>\n",
       "      <td>0.927</td>\n",
       "    </tr>\n",
       "    <tr>\n",
       "      <th>LGBMClassifier</th>\n",
       "      <td>0.956</td>\n",
       "      <td>NaN</td>\n",
       "      <td>0.000</td>\n",
       "      <td>0.000</td>\n",
       "      <td>0.934</td>\n",
       "    </tr>\n",
       "  </tbody>\n",
       "</table>\n",
       "</div>"
      ],
      "text/plain": [
       "                            Best Threshold      F  Precision  Recall  ROC AUC\n",
       "models                                                                       \n",
       "LogisticRegression                   0.945    NaN      0.000   0.000    0.908\n",
       "RandomForestClassifier               0.270  0.511      0.418   0.658    0.869\n",
       "DecisionTreeClassifier               1.000  0.404      0.400   0.407    0.681\n",
       "CatBoostClassifier                   0.267  0.556      0.465   0.691    0.933\n",
       "GradientBoostingClassifier           0.988    NaN      0.000   0.000    0.927\n",
       "LGBMClassifier                       0.956    NaN      0.000   0.000    0.934"
      ]
     },
     "execution_count": 76,
     "metadata": {},
     "output_type": "execute_result"
    }
   ],
   "source": [
    "results"
   ]
  },
  {
   "cell_type": "markdown",
   "id": "d521e6be-1503-4b2a-9807-9d059f27ca1e",
   "metadata": {},
   "source": [
    "### 9 Gridsearch для пайплайнов\n"
   ]
  },
  {
   "cell_type": "code",
   "execution_count": 50,
   "id": "ec775302-e42b-4dfb-98d9-af6207303a24",
   "metadata": {},
   "outputs": [],
   "source": [
    "catb_pipe = make_pipeline(\n",
    "    f_prep_pipeline,\n",
    "    catb.CatBoostClassifier(random_state=RANDOM_STATE, logging_level='Silent')\n",
    ")"
   ]
  },
  {
   "cell_type": "code",
   "execution_count": 51,
   "id": "98e29e2f-b6ef-4b56-9471-ec48320b3e77",
   "metadata": {},
   "outputs": [],
   "source": [
    "from sklearn.model_selection import GridSearchCV"
   ]
  },
  {
   "cell_type": "code",
   "execution_count": 52,
   "id": "70b7482d-78dd-4e65-ab18-12f71ff72f8c",
   "metadata": {},
   "outputs": [],
   "source": [
    "def run_grid_search(estimator, X, y, params_grid, cv, scoring='roc_auc'):\n",
    "    gsc = GridSearchCV(estimator, params_grid, scoring=scoring, cv=cv) #, n_jobs=-1\n",
    " \n",
    "    gsc.fit(X, y)\n",
    "    print(\"Best %s score: %.2f\" % (scoring, gsc.best_score_))\n",
    "    print()\n",
    "    print(\"Best parameters set found on development set:\")\n",
    "    print()\n",
    "    print(gsc.best_params_)\n",
    "    print()\n",
    "    print(\"Grid scores on development set:\")\n",
    "    print()\n",
    "\n",
    "    for i, params in enumerate(gsc.cv_results_['params']):\n",
    "        print(\"%0.3f (+/-%0.03f) for %r\"\n",
    "              % (gsc.cv_results_['mean_test_score'][i], gsc.cv_results_['std_test_score'][i] * 2, params))\n",
    "\n",
    "    print()\n",
    "    \n",
    "    return gsc"
   ]
  },
  {
   "cell_type": "code",
   "execution_count": 49,
   "id": "115e3b5d-cbb9-4330-8cae-65ae4431c57e",
   "metadata": {},
   "outputs": [
    {
     "data": {
      "text/plain": [
       "['pipeline__featureunion__numeric_features__simpleimputer',\n",
       " 'pipeline__featureunion__numeric_features__simpleimputer__add_indicator',\n",
       " 'pipeline__featureunion__numeric_features__simpleimputer__copy',\n",
       " 'pipeline__featureunion__numeric_features__simpleimputer__fill_value',\n",
       " 'pipeline__featureunion__numeric_features__simpleimputer__missing_values',\n",
       " 'pipeline__featureunion__numeric_features__simpleimputer__strategy',\n",
       " 'pipeline__featureunion__numeric_features__simpleimputer__verbose',\n",
       " 'pipeline__featureunion__categorical_features__simpleimputer',\n",
       " 'pipeline__featureunion__categorical_features__simpleimputer__add_indicator',\n",
       " 'pipeline__featureunion__categorical_features__simpleimputer__copy',\n",
       " 'pipeline__featureunion__categorical_features__simpleimputer__fill_value',\n",
       " 'pipeline__featureunion__categorical_features__simpleimputer__missing_values',\n",
       " 'pipeline__featureunion__categorical_features__simpleimputer__strategy',\n",
       " 'pipeline__featureunion__categorical_features__simpleimputer__verbose']"
      ]
     },
     "execution_count": 49,
     "metadata": {},
     "output_type": "execute_result"
    }
   ],
   "source": [
    "[k for k in catb_pipe.get_params().keys() if 'imputer' in k]"
   ]
  },
  {
   "cell_type": "code",
   "execution_count": 50,
   "id": "4b8eda78-eda4-4ac2-8711-ffc9b4918088",
   "metadata": {},
   "outputs": [
    {
     "name": "stdout",
     "output_type": "stream",
     "text": [
      "Best roc_auc score: 0.93\n",
      "\n",
      "Best parameters set found on development set:\n",
      "\n",
      "{'pipeline__featureunion__categorical_features__simpleimputer__fill_value': -1, 'pipeline__featureunion__categorical_features__simpleimputer__strategy': 'most_frequent'}\n",
      "\n",
      "Grid scores on development set:\n",
      "\n",
      "0.932 (+/-0.002) for {'pipeline__featureunion__categorical_features__simpleimputer__fill_value': -1, 'pipeline__featureunion__categorical_features__simpleimputer__strategy': 'most_frequent'}\n",
      "0.932 (+/-0.002) for {'pipeline__featureunion__categorical_features__simpleimputer__fill_value': -1, 'pipeline__featureunion__categorical_features__simpleimputer__strategy': 'constant'}\n",
      "\n"
     ]
    }
   ],
   "source": [
    "param_grid = {\n",
    "    \"pipeline__featureunion__categorical_features__simpleimputer__strategy\": ['most_frequent', 'constant'],\n",
    "    \"pipeline__featureunion__categorical_features__simpleimputer__fill_value\": [-1],\n",
    "}\n",
    "\n",
    "catb_gsc = run_grid_search(catb_pipe, X_train, y_train, param_grid, kfold_cv)"
   ]
  },
  {
   "cell_type": "markdown",
   "id": "58666298-7319-4711-a029-68640fd988a5",
   "metadata": {},
   "source": [
    "### 9 Отбор признаков в пайплайнах"
   ]
  },
  {
   "cell_type": "code",
   "execution_count": 53,
   "id": "50fbce40-f56f-4a46-a1ba-9cacfb07bc51",
   "metadata": {},
   "outputs": [],
   "source": [
    "from sklearn.feature_selection import SelectFromModel"
   ]
  },
  {
   "cell_type": "code",
   "execution_count": 54,
   "id": "63ca2709-94c5-4094-bbf3-a861866a02bb",
   "metadata": {},
   "outputs": [],
   "source": [
    "fs_pipe = make_pipeline(\n",
    "    f_prep_pipeline,\n",
    "    SelectFromModel(catb.CatBoostClassifier(random_state=RANDOM_STATE, logging_level='Silent'), threshold=1e-5),\n",
    ")"
   ]
  },
  {
   "cell_type": "code",
   "execution_count": 55,
   "id": "699194ee-7424-4878-9692-79c1bbb58e02",
   "metadata": {},
   "outputs": [
    {
     "data": {
      "text/plain": [
       "(206351, 269)"
      ]
     },
     "execution_count": 55,
     "metadata": {},
     "output_type": "execute_result"
    }
   ],
   "source": [
    "f_prep_pipeline.fit(X_train)\n",
    "f_prep_pipeline.transform(X_test).shape"
   ]
  },
  {
   "cell_type": "code",
   "execution_count": 56,
   "id": "ae939bef-0bd3-4565-9b07-3d0943d483b7",
   "metadata": {},
   "outputs": [
    {
     "data": {
      "text/plain": [
       "(206351, 254)"
      ]
     },
     "execution_count": 56,
     "metadata": {},
     "output_type": "execute_result"
    }
   ],
   "source": [
    "fs_pipe.fit(X_train, y_train)\n",
    "fs_pipe.transform(X_test).shape"
   ]
  },
  {
   "cell_type": "code",
   "execution_count": 57,
   "id": "86e9f3b2-705a-4e71-ba13-9e90c42c25cb",
   "metadata": {},
   "outputs": [],
   "source": [
    "catb_fs_pipe = make_pipeline(\n",
    "    f_prep_pipeline,\n",
    "    SelectFromModel(catb.CatBoostClassifier(random_state=RANDOM_STATE, logging_level='Silent'), threshold=1e-5),\n",
    "    catb.CatBoostClassifier(random_state=RANDOM_STATE, logging_level='Silent')\n",
    ")"
   ]
  },
  {
   "cell_type": "code",
   "execution_count": 57,
   "id": "b028a239-67b1-446a-b04d-85f8dba6d11c",
   "metadata": {},
   "outputs": [
    {
     "name": "stdout",
     "output_type": "stream",
     "text": [
      "Best roc_auc score: 0.93\n",
      "\n",
      "Best parameters set found on development set:\n",
      "\n",
      "{'selectfrommodel__threshold': 1e-05}\n",
      "\n",
      "Grid scores on development set:\n",
      "\n",
      "0.932 (+/-0.002) for {'selectfrommodel__max_features': None, 'selectfrommodel__threshold': -inf}\n",
      "0.921 (+/-0.003) for {'selectfrommodel__max_features': 5, 'selectfrommodel__threshold': -inf}\n",
      "0.933 (+/-0.002) for {'selectfrommodel__max_features': 25, 'selectfrommodel__threshold': -inf}\n",
      "0.930 (+/-0.003) for {'selectfrommodel__max_features': 10, 'selectfrommodel__threshold': -inf}\n",
      "0.932 (+/-0.002) for {'selectfrommodel__max_features': 50, 'selectfrommodel__threshold': -inf}\n",
      "0.932 (+/-0.002) for {'selectfrommodel__max_features': 100, 'selectfrommodel__threshold': -inf}\n",
      "0.932 (+/-0.002) for {'selectfrommodel__max_features': 150, 'selectfrommodel__threshold': -inf}\n",
      "0.933 (+/-0.001) for {'selectfrommodel__threshold': 1e-05}\n",
      "\n"
     ]
    }
   ],
   "source": [
    "param_grid = [\n",
    "    {\"selectfrommodel__max_features\": [None, 5, 25, 10, 50, 100, 150], \"selectfrommodel__threshold\": [-np.inf]},\n",
    "    {\"selectfrommodel__threshold\": [1e-5]},\n",
    "]\n",
    "\n",
    "catb_fs_gsc = run_grid_search(catb_fs_pipe, X_train, y_train, param_grid, kfold_cv)"
   ]
  },
  {
   "cell_type": "markdown",
   "id": "cd8b46ce-6a71-4cef-9371-4f5f10c29f20",
   "metadata": {},
   "source": [
    "### 10 Подбор параметров"
   ]
  },
  {
   "cell_type": "code",
   "execution_count": 75,
   "id": "716c0477-0ed0-4f50-baf8-d6b93c4a418b",
   "metadata": {},
   "outputs": [
    {
     "data": {
      "application/vnd.jupyter.widget-view+json": {
       "model_id": "e536749da9404e058c7cb21dcb2f5e2a",
       "version_major": 2,
       "version_minor": 0
      },
      "text/plain": [
       "MetricVisualizer(layout=Layout(align_self='stretch', height='500px'))"
      ]
     },
     "metadata": {},
     "output_type": "display_data"
    },
    {
     "name": "stdout",
     "output_type": "stream",
     "text": [
      "Metric AUC is not calculated on train by default. To calculate this metric on train, add hints=skip_train~false to metric parameters.\n",
      "0:\tloss: 0.9290905\tbest: 0.9290905 (0)\ttotal: 9m 8s\tremaining: 8h 4m 20s\n",
      "Metric AUC is not calculated on train by default. To calculate this metric on train, add hints=skip_train~false to metric parameters.\n",
      "1:\tloss: 0.9292322\tbest: 0.9292322 (1)\ttotal: 13m 19s\tremaining: 5h 46m 15s\n",
      "Metric AUC is not calculated on train by default. To calculate this metric on train, add hints=skip_train~false to metric parameters.\n",
      "2:\tloss: 0.9288109\tbest: 0.9292322 (1)\ttotal: 19m 52s\tremaining: 5h 37m 48s\n",
      "Metric AUC is not calculated on train by default. To calculate this metric on train, add hints=skip_train~false to metric parameters.\n",
      "3:\tloss: 0.9289317\tbest: 0.9292322 (1)\ttotal: 21m 52s\tremaining: 4h 33m 23s\n",
      "Metric AUC is not calculated on train by default. To calculate this metric on train, add hints=skip_train~false to metric parameters.\n",
      "4:\tloss: 0.9290249\tbest: 0.9292322 (1)\ttotal: 30m 7s\tremaining: 4h 55m 17s\n",
      "Metric AUC is not calculated on train by default. To calculate this metric on train, add hints=skip_train~false to metric parameters.\n",
      "5:\tloss: 0.9291347\tbest: 0.9292322 (1)\ttotal: 32m 24s\tremaining: 4h 19m 13s\n",
      "Metric AUC is not calculated on train by default. To calculate this metric on train, add hints=skip_train~false to metric parameters.\n",
      "6:\tloss: 0.9290905\tbest: 0.9292322 (1)\ttotal: 38m 14s\tremaining: 4h 16m 43s\n",
      "Metric AUC is not calculated on train by default. To calculate this metric on train, add hints=skip_train~false to metric parameters.\n",
      "7:\tloss: 0.9292322\tbest: 0.9292322 (1)\ttotal: 41m 30s\tremaining: 3h 58m 39s\n",
      "Metric AUC is not calculated on train by default. To calculate this metric on train, add hints=skip_train~false to metric parameters.\n",
      "8:\tloss: 0.9288109\tbest: 0.9292322 (1)\ttotal: 48m 4s\tremaining: 4h 21s\n",
      "Metric AUC is not calculated on train by default. To calculate this metric on train, add hints=skip_train~false to metric parameters.\n",
      "9:\tloss: 0.9289317\tbest: 0.9292322 (1)\ttotal: 50m 4s\tremaining: 3h 40m 20s\n",
      "Metric AUC is not calculated on train by default. To calculate this metric on train, add hints=skip_train~false to metric parameters.\n",
      "10:\tloss: 0.9290249\tbest: 0.9292322 (1)\ttotal: 58m 19s\tremaining: 3h 48m\n",
      "Metric AUC is not calculated on train by default. To calculate this metric on train, add hints=skip_train~false to metric parameters.\n",
      "11:\tloss: 0.9291347\tbest: 0.9292322 (1)\ttotal: 1h 35s\tremaining: 3h 32m 4s\n",
      "Metric AUC is not calculated on train by default. To calculate this metric on train, add hints=skip_train~false to metric parameters.\n",
      "12:\tloss: 0.9290905\tbest: 0.9292322 (1)\ttotal: 1h 6m 27s\tremaining: 3h 29m 34s\n",
      "Metric AUC is not calculated on train by default. To calculate this metric on train, add hints=skip_train~false to metric parameters.\n",
      "13:\tloss: 0.9292322\tbest: 0.9292322 (1)\ttotal: 1h 9m 41s\tremaining: 3h 19m 8s\n",
      "Metric AUC is not calculated on train by default. To calculate this metric on train, add hints=skip_train~false to metric parameters.\n",
      "14:\tloss: 0.9288109\tbest: 0.9292322 (1)\ttotal: 1h 16m 15s\tremaining: 3h 18m 16s\n",
      "Metric AUC is not calculated on train by default. To calculate this metric on train, add hints=skip_train~false to metric parameters.\n",
      "15:\tloss: 0.9289317\tbest: 0.9292322 (1)\ttotal: 1h 18m 16s\tremaining: 3h 5m 53s\n",
      "Metric AUC is not calculated on train by default. To calculate this metric on train, add hints=skip_train~false to metric parameters.\n",
      "16:\tloss: 0.9290249\tbest: 0.9292322 (1)\ttotal: 1h 26m 31s\tremaining: 3h 8m 19s\n",
      "Metric AUC is not calculated on train by default. To calculate this metric on train, add hints=skip_train~false to metric parameters.\n",
      "17:\tloss: 0.9291347\tbest: 0.9292322 (1)\ttotal: 1h 28m 48s\tremaining: 2h 57m 36s\n",
      "Metric AUC is not calculated on train by default. To calculate this metric on train, add hints=skip_train~false to metric parameters.\n",
      "18:\tloss: 0.9298220\tbest: 0.9298220 (18)\ttotal: 1h 34m 15s\tremaining: 2h 53m 37s\n",
      "Metric AUC is not calculated on train by default. To calculate this metric on train, add hints=skip_train~false to metric parameters.\n",
      "19:\tloss: 0.9297772\tbest: 0.9298220 (18)\ttotal: 1h 36m 24s\tremaining: 2h 43m 53s\n",
      "Metric AUC is not calculated on train by default. To calculate this metric on train, add hints=skip_train~false to metric parameters.\n",
      "20:\tloss: 0.9297952\tbest: 0.9298220 (18)\ttotal: 1h 42m 48s\tremaining: 2h 41m 33s\n",
      "Metric AUC is not calculated on train by default. To calculate this metric on train, add hints=skip_train~false to metric parameters.\n",
      "21:\tloss: 0.9296694\tbest: 0.9298220 (18)\ttotal: 1h 45m 4s\tremaining: 2h 32m 49s\n",
      "Metric AUC is not calculated on train by default. To calculate this metric on train, add hints=skip_train~false to metric parameters.\n",
      "22:\tloss: 0.9298007\tbest: 0.9298220 (18)\ttotal: 1h 50m\tremaining: 2h 28m 16s\n",
      "Metric AUC is not calculated on train by default. To calculate this metric on train, add hints=skip_train~false to metric parameters.\n",
      "23:\tloss: 0.9297016\tbest: 0.9298220 (18)\ttotal: 1h 52m 18s\tremaining: 2h 20m 22s\n",
      "Metric AUC is not calculated on train by default. To calculate this metric on train, add hints=skip_train~false to metric parameters.\n",
      "24:\tloss: 0.9298220\tbest: 0.9298220 (18)\ttotal: 1h 57m 46s\tremaining: 2h 16m 37s\n",
      "Metric AUC is not calculated on train by default. To calculate this metric on train, add hints=skip_train~false to metric parameters.\n",
      "25:\tloss: 0.9297772\tbest: 0.9298220 (18)\ttotal: 1h 59m 54s\tremaining: 2h 9m 8s\n",
      "Metric AUC is not calculated on train by default. To calculate this metric on train, add hints=skip_train~false to metric parameters.\n",
      "26:\tloss: 0.9297952\tbest: 0.9298220 (18)\ttotal: 2h 6m 18s\tremaining: 2h 6m 18s\n",
      "Metric AUC is not calculated on train by default. To calculate this metric on train, add hints=skip_train~false to metric parameters.\n",
      "27:\tloss: 0.9296694\tbest: 0.9298220 (18)\ttotal: 2h 8m 34s\tremaining: 1h 59m 23s\n",
      "Metric AUC is not calculated on train by default. To calculate this metric on train, add hints=skip_train~false to metric parameters.\n",
      "28:\tloss: 0.9298007\tbest: 0.9298220 (18)\ttotal: 2h 13m 31s\tremaining: 1h 55m 6s\n",
      "Metric AUC is not calculated on train by default. To calculate this metric on train, add hints=skip_train~false to metric parameters.\n",
      "29:\tloss: 0.9297016\tbest: 0.9298220 (18)\ttotal: 2h 15m 48s\tremaining: 1h 48m 39s\n",
      "Metric AUC is not calculated on train by default. To calculate this metric on train, add hints=skip_train~false to metric parameters.\n",
      "30:\tloss: 0.9298220\tbest: 0.9298220 (18)\ttotal: 2h 21m 16s\tremaining: 1h 44m 49s\n",
      "Metric AUC is not calculated on train by default. To calculate this metric on train, add hints=skip_train~false to metric parameters.\n",
      "31:\tloss: 0.9297772\tbest: 0.9298220 (18)\ttotal: 2h 23m 25s\tremaining: 1h 38m 35s\n",
      "Metric AUC is not calculated on train by default. To calculate this metric on train, add hints=skip_train~false to metric parameters.\n",
      "32:\tloss: 0.9297952\tbest: 0.9298220 (18)\ttotal: 2h 29m 49s\tremaining: 1h 35m 20s\n",
      "Metric AUC is not calculated on train by default. To calculate this metric on train, add hints=skip_train~false to metric parameters.\n",
      "33:\tloss: 0.9296694\tbest: 0.9298220 (18)\ttotal: 2h 32m 5s\tremaining: 1h 29m 27s\n",
      "Metric AUC is not calculated on train by default. To calculate this metric on train, add hints=skip_train~false to metric parameters.\n",
      "34:\tloss: 0.9298007\tbest: 0.9298220 (18)\ttotal: 2h 37m 2s\tremaining: 1h 25m 14s\n",
      "Metric AUC is not calculated on train by default. To calculate this metric on train, add hints=skip_train~false to metric parameters.\n",
      "35:\tloss: 0.9297016\tbest: 0.9298220 (18)\ttotal: 2h 39m 19s\tremaining: 1h 19m 39s\n",
      "Metric AUC is not calculated on train by default. To calculate this metric on train, add hints=skip_train~false to metric parameters.\n",
      "36:\tloss: 0.9302907\tbest: 0.9302907 (36)\ttotal: 2h 46m 8s\tremaining: 1h 16m 20s\n",
      "Metric AUC is not calculated on train by default. To calculate this metric on train, add hints=skip_train~false to metric parameters.\n",
      "37:\tloss: 0.9301799\tbest: 0.9302907 (36)\ttotal: 2h 49m 51s\tremaining: 1h 11m 30s\n",
      "Metric AUC is not calculated on train by default. To calculate this metric on train, add hints=skip_train~false to metric parameters.\n",
      "38:\tloss: 0.9304176\tbest: 0.9304176 (38)\ttotal: 2h 56m 20s\tremaining: 1h 7m 49s\n",
      "Metric AUC is not calculated on train by default. To calculate this metric on train, add hints=skip_train~false to metric parameters.\n",
      "39:\tloss: 0.9303962\tbest: 0.9304176 (38)\ttotal: 3h 11s\tremaining: 1h 3m 4s\n",
      "Metric AUC is not calculated on train by default. To calculate this metric on train, add hints=skip_train~false to metric parameters.\n",
      "40:\tloss: 0.9304308\tbest: 0.9304308 (40)\ttotal: 3h 7m 36s\tremaining: 59m 29s\n",
      "Metric AUC is not calculated on train by default. To calculate this metric on train, add hints=skip_train~false to metric parameters.\n",
      "41:\tloss: 0.9303161\tbest: 0.9304308 (40)\ttotal: 3h 11m 24s\tremaining: 54m 41s\n",
      "Metric AUC is not calculated on train by default. To calculate this metric on train, add hints=skip_train~false to metric parameters.\n",
      "42:\tloss: 0.9302907\tbest: 0.9304308 (40)\ttotal: 3h 18m 13s\tremaining: 50m 42s\n",
      "Metric AUC is not calculated on train by default. To calculate this metric on train, add hints=skip_train~false to metric parameters.\n",
      "43:\tloss: 0.9301799\tbest: 0.9304308 (40)\ttotal: 3h 21m 54s\tremaining: 45m 53s\n",
      "Metric AUC is not calculated on train by default. To calculate this metric on train, add hints=skip_train~false to metric parameters.\n",
      "44:\tloss: 0.9304176\tbest: 0.9304308 (40)\ttotal: 3h 28m 24s\tremaining: 41m 40s\n",
      "Metric AUC is not calculated on train by default. To calculate this metric on train, add hints=skip_train~false to metric parameters.\n",
      "45:\tloss: 0.9303962\tbest: 0.9304308 (40)\ttotal: 3h 32m 15s\tremaining: 36m 54s\n",
      "Metric AUC is not calculated on train by default. To calculate this metric on train, add hints=skip_train~false to metric parameters.\n",
      "46:\tloss: 0.9304308\tbest: 0.9304308 (40)\ttotal: 3h 39m 32s\tremaining: 32m 41s\n",
      "Metric AUC is not calculated on train by default. To calculate this metric on train, add hints=skip_train~false to metric parameters.\n",
      "47:\tloss: 0.9303161\tbest: 0.9304308 (40)\ttotal: 3h 43m 22s\tremaining: 27m 55s\n",
      "Metric AUC is not calculated on train by default. To calculate this metric on train, add hints=skip_train~false to metric parameters.\n",
      "48:\tloss: 0.9302907\tbest: 0.9304308 (40)\ttotal: 3h 50m 12s\tremaining: 23m 29s\n",
      "Metric AUC is not calculated on train by default. To calculate this metric on train, add hints=skip_train~false to metric parameters.\n",
      "49:\tloss: 0.9301799\tbest: 0.9304308 (40)\ttotal: 3h 53m 55s\tremaining: 18m 42s\n",
      "Metric AUC is not calculated on train by default. To calculate this metric on train, add hints=skip_train~false to metric parameters.\n",
      "50:\tloss: 0.9304176\tbest: 0.9304308 (40)\ttotal: 4h 24s\tremaining: 14m 8s\n",
      "Metric AUC is not calculated on train by default. To calculate this metric on train, add hints=skip_train~false to metric parameters.\n",
      "51:\tloss: 0.9303962\tbest: 0.9304308 (40)\ttotal: 4h 4m 16s\tremaining: 9m 23s\n",
      "Metric AUC is not calculated on train by default. To calculate this metric on train, add hints=skip_train~false to metric parameters.\n",
      "52:\tloss: 0.9304308\tbest: 0.9304308 (40)\ttotal: 4h 11m 30s\tremaining: 4m 44s\n",
      "Metric AUC is not calculated on train by default. To calculate this metric on train, add hints=skip_train~false to metric parameters.\n",
      "53:\tloss: 0.9303161\tbest: 0.9304308 (40)\ttotal: 4h 15m 18s\tremaining: 0us\n",
      "Estimating final quality...\n"
     ]
    }
   ],
   "source": [
    "model = catb.CatBoostClassifier(eval_metric = 'AUC', random_state=RANDOM_STATE, logging_level='Silent')\n",
    "\n",
    "grid = {\n",
    "    \"depth\": [5, 7, 10],\n",
    "    \"score_function\": ['L2'],\n",
    "    \"l2_leaf_reg\": [1, 3, 5],\n",
    "    \"learning_rate\": [0.01, 0.03],\n",
    "    \"iterations\": [5000, 10000, 15000],\n",
    "    \"early_stopping_rounds\": [200]\n",
    "}\n",
    "grid_search_result = model.grid_search(grid,\n",
    "                                       X=X_train,\n",
    "                                       y=y_train,\n",
    "                                       plot=True)"
   ]
  },
  {
   "cell_type": "markdown",
   "id": "5b12d6f6-ff3f-4500-a5a2-564b287f4b7a",
   "metadata": {
    "tags": []
   },
   "source": [
    "### 11 Финальная модель"
   ]
  },
  {
   "cell_type": "code",
   "execution_count": 119,
   "id": "30e34f23-f608-40ba-a82d-9175bc0fea7a",
   "metadata": {},
   "outputs": [],
   "source": [
    "catb_pipe_final = make_pipeline(\n",
    "    f_prep_pipeline,\n",
    "    SelectFromModel(LogisticRegression(penalty='l2', random_state=RANDOM_STATE), max_features=25),\n",
    "    catb.CatBoostClassifier(random_state=RANDOM_STATE, logging_level='Silent',\n",
    "                                    depth = 10,\n",
    "                                    custom_metric = 'F1',\n",
    "                                    eval_metric = 'AUC',\n",
    "                                    score_function='L2',\n",
    "                                    l2_leaf_reg = 3,\n",
    "                                    learning_rate = 0.01,\n",
    "                                    iterations = 10000,\n",
    "                                    early_stopping_rounds = 200)\n",
    ")\n"
   ]
  },
  {
   "cell_type": "code",
   "execution_count": 120,
   "id": "edd042e4-531e-4404-8680-0551992f846d",
   "metadata": {},
   "outputs": [
    {
     "name": "stderr",
     "output_type": "stream",
     "text": [
      "D:\\Anaconda\\lib\\site-packages\\sklearn\\linear_model\\_logistic.py:814: ConvergenceWarning: lbfgs failed to converge (status=1):\n",
      "STOP: TOTAL NO. of ITERATIONS REACHED LIMIT.\n",
      "\n",
      "Increase the number of iterations (max_iter) or scale the data as shown in:\n",
      "    https://scikit-learn.org/stable/modules/preprocessing.html\n",
      "Please also refer to the documentation for alternative solver options:\n",
      "    https://scikit-learn.org/stable/modules/linear_model.html#logistic-regression\n",
      "  n_iter_i = _check_optimize_result(\n"
     ]
    },
    {
     "data": {
      "text/plain": [
       "Pipeline(steps=[('pipeline',\n",
       "                 Pipeline(steps=[('columnselector',\n",
       "                                  ColumnSelector(columns=['171', '155', '56',\n",
       "                                                          '103', '154', '150',\n",
       "                                                          '12', '51', '182',\n",
       "                                                          '19', '122', '164',\n",
       "                                                          'number_of_week',\n",
       "                                                          '21', '229', '79',\n",
       "                                                          '195', '181', '145',\n",
       "                                                          '129', '152', '147',\n",
       "                                                          '11', '76', '61',\n",
       "                                                          '130', '92', '240',\n",
       "                                                          '225', '33', ...])),\n",
       "                                 ('featureunion',\n",
       "                                  FeatureUnion(transformer_list=[('numeric_features',\n",
       "                                                                  Pipeline(s...\n",
       "                                                                                   ColumnSelector(columns=['month',\n",
       "                                                                                                           'vas_id',\n",
       "                                                                                                           'number_of_week'])),\n",
       "                                                                                  ('simpleimputer',\n",
       "                                                                                   SimpleImputer(strategy='most_frequent')),\n",
       "                                                                                  ('onehotencoder',\n",
       "                                                                                   OneHotEncoder(handle_unknown='ignore'))]))]))])),\n",
       "                ('selectfrommodel',\n",
       "                 SelectFromModel(estimator=LogisticRegression(random_state=888),\n",
       "                                 max_features=25)),\n",
       "                ('catboostclassifier',\n",
       "                 <catboost.core.CatBoostClassifier object at 0x0000024250F68430>)])"
      ]
     },
     "execution_count": 120,
     "metadata": {},
     "output_type": "execute_result"
    }
   ],
   "source": [
    "catb_pipe_final.fit(X_train, y_train)"
   ]
  },
  {
   "cell_type": "code",
   "execution_count": 121,
   "id": "777c0ce8-fea1-4a21-a3d9-35554d845eaf",
   "metadata": {},
   "outputs": [],
   "source": [
    "catb_pred = catb_pipe_final.predict_proba(X_test)[:,1]"
   ]
  },
  {
   "cell_type": "code",
   "execution_count": 122,
   "id": "38659c88-e87e-4b86-876c-07da486a869f",
   "metadata": {},
   "outputs": [
    {
     "data": {
      "text/plain": [
       "array([4.91974428e-06, 1.20564433e-02, 1.25164129e-02, ...,\n",
       "       9.54658405e-03, 1.33322750e-03, 1.37996017e-03])"
      ]
     },
     "execution_count": 122,
     "metadata": {},
     "output_type": "execute_result"
    }
   ],
   "source": [
    "catb_pred"
   ]
  },
  {
   "cell_type": "code",
   "execution_count": 123,
   "id": "f3767af6-36c7-4606-b24e-c97a5546ed37",
   "metadata": {},
   "outputs": [
    {
     "data": {
      "text/html": [
       "<div>\n",
       "<style scoped>\n",
       "    .dataframe tbody tr th:only-of-type {\n",
       "        vertical-align: middle;\n",
       "    }\n",
       "\n",
       "    .dataframe tbody tr th {\n",
       "        vertical-align: top;\n",
       "    }\n",
       "\n",
       "    .dataframe thead th {\n",
       "        text-align: right;\n",
       "    }\n",
       "</style>\n",
       "<table border=\"1\" class=\"dataframe\">\n",
       "  <thead>\n",
       "    <tr style=\"text-align: right;\">\n",
       "      <th></th>\n",
       "      <th>id</th>\n",
       "      <th>vas_id</th>\n",
       "      <th>buy_time_x</th>\n",
       "      <th>0</th>\n",
       "      <th>1</th>\n",
       "      <th>2</th>\n",
       "      <th>3</th>\n",
       "      <th>4</th>\n",
       "      <th>5</th>\n",
       "      <th>6</th>\n",
       "      <th>...</th>\n",
       "      <th>246</th>\n",
       "      <th>247</th>\n",
       "      <th>248</th>\n",
       "      <th>249</th>\n",
       "      <th>250</th>\n",
       "      <th>251</th>\n",
       "      <th>252</th>\n",
       "      <th>month</th>\n",
       "      <th>number_of_week</th>\n",
       "      <th>target</th>\n",
       "    </tr>\n",
       "  </thead>\n",
       "  <tbody>\n",
       "    <tr>\n",
       "      <th>48190</th>\n",
       "      <td>3793438</td>\n",
       "      <td>2.0</td>\n",
       "      <td>1547413200</td>\n",
       "      <td>0.0</td>\n",
       "      <td>0.0</td>\n",
       "      <td>0.0</td>\n",
       "      <td>0.0</td>\n",
       "      <td>0.0</td>\n",
       "      <td>0.0</td>\n",
       "      <td>0.0</td>\n",
       "      <td>...</td>\n",
       "      <td>0.0</td>\n",
       "      <td>0.0</td>\n",
       "      <td>0.0</td>\n",
       "      <td>0.0</td>\n",
       "      <td>0.0</td>\n",
       "      <td>0.0</td>\n",
       "      <td>0.0</td>\n",
       "      <td>1</td>\n",
       "      <td>2</td>\n",
       "      <td>0.000006</td>\n",
       "    </tr>\n",
       "    <tr>\n",
       "      <th>5776</th>\n",
       "      <td>3256899</td>\n",
       "      <td>2.0</td>\n",
       "      <td>1546808400</td>\n",
       "      <td>0.0</td>\n",
       "      <td>0.0</td>\n",
       "      <td>0.0</td>\n",
       "      <td>0.0</td>\n",
       "      <td>0.0</td>\n",
       "      <td>0.0</td>\n",
       "      <td>0.0</td>\n",
       "      <td>...</td>\n",
       "      <td>0.0</td>\n",
       "      <td>0.0</td>\n",
       "      <td>0.0</td>\n",
       "      <td>0.0</td>\n",
       "      <td>0.0</td>\n",
       "      <td>0.0</td>\n",
       "      <td>0.0</td>\n",
       "      <td>1</td>\n",
       "      <td>1</td>\n",
       "      <td>0.000005</td>\n",
       "    </tr>\n",
       "    <tr>\n",
       "      <th>43610</th>\n",
       "      <td>1766065</td>\n",
       "      <td>2.0</td>\n",
       "      <td>1547413200</td>\n",
       "      <td>0.0</td>\n",
       "      <td>0.0</td>\n",
       "      <td>0.0</td>\n",
       "      <td>0.0</td>\n",
       "      <td>0.0</td>\n",
       "      <td>0.0</td>\n",
       "      <td>0.0</td>\n",
       "      <td>...</td>\n",
       "      <td>0.0</td>\n",
       "      <td>0.0</td>\n",
       "      <td>0.0</td>\n",
       "      <td>0.0</td>\n",
       "      <td>0.0</td>\n",
       "      <td>0.0</td>\n",
       "      <td>0.0</td>\n",
       "      <td>1</td>\n",
       "      <td>2</td>\n",
       "      <td>0.000010</td>\n",
       "    </tr>\n",
       "    <tr>\n",
       "      <th>6733</th>\n",
       "      <td>3040181</td>\n",
       "      <td>6.0</td>\n",
       "      <td>1546808400</td>\n",
       "      <td>0.0</td>\n",
       "      <td>0.0</td>\n",
       "      <td>0.0</td>\n",
       "      <td>0.0</td>\n",
       "      <td>0.0</td>\n",
       "      <td>0.0</td>\n",
       "      <td>0.0</td>\n",
       "      <td>...</td>\n",
       "      <td>0.0</td>\n",
       "      <td>0.0</td>\n",
       "      <td>0.0</td>\n",
       "      <td>0.0</td>\n",
       "      <td>0.0</td>\n",
       "      <td>0.0</td>\n",
       "      <td>0.0</td>\n",
       "      <td>1</td>\n",
       "      <td>1</td>\n",
       "      <td>0.318257</td>\n",
       "    </tr>\n",
       "    <tr>\n",
       "      <th>6746</th>\n",
       "      <td>3427825</td>\n",
       "      <td>5.0</td>\n",
       "      <td>1546808400</td>\n",
       "      <td>0.0</td>\n",
       "      <td>0.0</td>\n",
       "      <td>0.0</td>\n",
       "      <td>0.0</td>\n",
       "      <td>0.0</td>\n",
       "      <td>0.0</td>\n",
       "      <td>0.0</td>\n",
       "      <td>...</td>\n",
       "      <td>0.0</td>\n",
       "      <td>0.0</td>\n",
       "      <td>0.0</td>\n",
       "      <td>0.0</td>\n",
       "      <td>0.0</td>\n",
       "      <td>0.0</td>\n",
       "      <td>0.0</td>\n",
       "      <td>1</td>\n",
       "      <td>1</td>\n",
       "      <td>0.000097</td>\n",
       "    </tr>\n",
       "  </tbody>\n",
       "</table>\n",
       "<p>5 rows × 259 columns</p>\n",
       "</div>"
      ],
      "text/plain": [
       "            id  vas_id  buy_time_x    0    1    2    3    4    5    6  ...  \\\n",
       "48190  3793438     2.0  1547413200  0.0  0.0  0.0  0.0  0.0  0.0  0.0  ...   \n",
       "5776   3256899     2.0  1546808400  0.0  0.0  0.0  0.0  0.0  0.0  0.0  ...   \n",
       "43610  1766065     2.0  1547413200  0.0  0.0  0.0  0.0  0.0  0.0  0.0  ...   \n",
       "6733   3040181     6.0  1546808400  0.0  0.0  0.0  0.0  0.0  0.0  0.0  ...   \n",
       "6746   3427825     5.0  1546808400  0.0  0.0  0.0  0.0  0.0  0.0  0.0  ...   \n",
       "\n",
       "       246  247  248  249  250  251  252  month  number_of_week    target  \n",
       "48190  0.0  0.0  0.0  0.0  0.0  0.0  0.0      1               2  0.000006  \n",
       "5776   0.0  0.0  0.0  0.0  0.0  0.0  0.0      1               1  0.000005  \n",
       "43610  0.0  0.0  0.0  0.0  0.0  0.0  0.0      1               2  0.000010  \n",
       "6733   0.0  0.0  0.0  0.0  0.0  0.0  0.0      1               1  0.318257  \n",
       "6746   0.0  0.0  0.0  0.0  0.0  0.0  0.0      1               1  0.000097  \n",
       "\n",
       "[5 rows x 259 columns]"
      ]
     },
     "execution_count": 123,
     "metadata": {},
     "output_type": "execute_result"
    }
   ],
   "source": [
    "data_test.head()"
   ]
  },
  {
   "cell_type": "code",
   "execution_count": 124,
   "id": "abb4dd43-9f6d-4ce2-89be-2b57379a2dcb",
   "metadata": {},
   "outputs": [],
   "source": [
    "result_pred = catb_pipe_final.predict_proba(data_test)[:,1]"
   ]
  },
  {
   "cell_type": "code",
   "execution_count": 125,
   "id": "939f49be-cae4-48f5-8f4b-f0e4d147c796",
   "metadata": {},
   "outputs": [],
   "source": [
    "data_test['target'] = result_pred"
   ]
  },
  {
   "cell_type": "code",
   "execution_count": 126,
   "id": "19dc2b5d-6b22-4caa-b680-2f091a912c95",
   "metadata": {},
   "outputs": [
    {
     "data": {
      "text/html": [
       "<div>\n",
       "<style scoped>\n",
       "    .dataframe tbody tr th:only-of-type {\n",
       "        vertical-align: middle;\n",
       "    }\n",
       "\n",
       "    .dataframe tbody tr th {\n",
       "        vertical-align: top;\n",
       "    }\n",
       "\n",
       "    .dataframe thead th {\n",
       "        text-align: right;\n",
       "    }\n",
       "</style>\n",
       "<table border=\"1\" class=\"dataframe\">\n",
       "  <thead>\n",
       "    <tr style=\"text-align: right;\">\n",
       "      <th></th>\n",
       "      <th>id</th>\n",
       "      <th>vas_id</th>\n",
       "      <th>buy_time_x</th>\n",
       "      <th>0</th>\n",
       "      <th>1</th>\n",
       "      <th>2</th>\n",
       "      <th>3</th>\n",
       "      <th>4</th>\n",
       "      <th>5</th>\n",
       "      <th>6</th>\n",
       "      <th>...</th>\n",
       "      <th>246</th>\n",
       "      <th>247</th>\n",
       "      <th>248</th>\n",
       "      <th>249</th>\n",
       "      <th>250</th>\n",
       "      <th>251</th>\n",
       "      <th>252</th>\n",
       "      <th>month</th>\n",
       "      <th>number_of_week</th>\n",
       "      <th>target</th>\n",
       "    </tr>\n",
       "  </thead>\n",
       "  <tbody>\n",
       "    <tr>\n",
       "      <th>48190</th>\n",
       "      <td>3793438</td>\n",
       "      <td>2.0</td>\n",
       "      <td>1547413200</td>\n",
       "      <td>0.0</td>\n",
       "      <td>0.0</td>\n",
       "      <td>0.0</td>\n",
       "      <td>0.0</td>\n",
       "      <td>0.0</td>\n",
       "      <td>0.0</td>\n",
       "      <td>0.0</td>\n",
       "      <td>...</td>\n",
       "      <td>0.0</td>\n",
       "      <td>0.0</td>\n",
       "      <td>0.0</td>\n",
       "      <td>0.0</td>\n",
       "      <td>0.0</td>\n",
       "      <td>0.0</td>\n",
       "      <td>0.0</td>\n",
       "      <td>1</td>\n",
       "      <td>2</td>\n",
       "      <td>0.000067</td>\n",
       "    </tr>\n",
       "    <tr>\n",
       "      <th>5776</th>\n",
       "      <td>3256899</td>\n",
       "      <td>2.0</td>\n",
       "      <td>1546808400</td>\n",
       "      <td>0.0</td>\n",
       "      <td>0.0</td>\n",
       "      <td>0.0</td>\n",
       "      <td>0.0</td>\n",
       "      <td>0.0</td>\n",
       "      <td>0.0</td>\n",
       "      <td>0.0</td>\n",
       "      <td>...</td>\n",
       "      <td>0.0</td>\n",
       "      <td>0.0</td>\n",
       "      <td>0.0</td>\n",
       "      <td>0.0</td>\n",
       "      <td>0.0</td>\n",
       "      <td>0.0</td>\n",
       "      <td>0.0</td>\n",
       "      <td>1</td>\n",
       "      <td>1</td>\n",
       "      <td>0.000239</td>\n",
       "    </tr>\n",
       "    <tr>\n",
       "      <th>43610</th>\n",
       "      <td>1766065</td>\n",
       "      <td>2.0</td>\n",
       "      <td>1547413200</td>\n",
       "      <td>0.0</td>\n",
       "      <td>0.0</td>\n",
       "      <td>0.0</td>\n",
       "      <td>0.0</td>\n",
       "      <td>0.0</td>\n",
       "      <td>0.0</td>\n",
       "      <td>0.0</td>\n",
       "      <td>...</td>\n",
       "      <td>0.0</td>\n",
       "      <td>0.0</td>\n",
       "      <td>0.0</td>\n",
       "      <td>0.0</td>\n",
       "      <td>0.0</td>\n",
       "      <td>0.0</td>\n",
       "      <td>0.0</td>\n",
       "      <td>1</td>\n",
       "      <td>2</td>\n",
       "      <td>0.000097</td>\n",
       "    </tr>\n",
       "    <tr>\n",
       "      <th>6733</th>\n",
       "      <td>3040181</td>\n",
       "      <td>6.0</td>\n",
       "      <td>1546808400</td>\n",
       "      <td>0.0</td>\n",
       "      <td>0.0</td>\n",
       "      <td>0.0</td>\n",
       "      <td>0.0</td>\n",
       "      <td>0.0</td>\n",
       "      <td>0.0</td>\n",
       "      <td>0.0</td>\n",
       "      <td>...</td>\n",
       "      <td>0.0</td>\n",
       "      <td>0.0</td>\n",
       "      <td>0.0</td>\n",
       "      <td>0.0</td>\n",
       "      <td>0.0</td>\n",
       "      <td>0.0</td>\n",
       "      <td>0.0</td>\n",
       "      <td>1</td>\n",
       "      <td>1</td>\n",
       "      <td>0.365303</td>\n",
       "    </tr>\n",
       "    <tr>\n",
       "      <th>6746</th>\n",
       "      <td>3427825</td>\n",
       "      <td>5.0</td>\n",
       "      <td>1546808400</td>\n",
       "      <td>0.0</td>\n",
       "      <td>0.0</td>\n",
       "      <td>0.0</td>\n",
       "      <td>0.0</td>\n",
       "      <td>0.0</td>\n",
       "      <td>0.0</td>\n",
       "      <td>0.0</td>\n",
       "      <td>...</td>\n",
       "      <td>0.0</td>\n",
       "      <td>0.0</td>\n",
       "      <td>0.0</td>\n",
       "      <td>0.0</td>\n",
       "      <td>0.0</td>\n",
       "      <td>0.0</td>\n",
       "      <td>0.0</td>\n",
       "      <td>1</td>\n",
       "      <td>1</td>\n",
       "      <td>0.000262</td>\n",
       "    </tr>\n",
       "  </tbody>\n",
       "</table>\n",
       "<p>5 rows × 259 columns</p>\n",
       "</div>"
      ],
      "text/plain": [
       "            id  vas_id  buy_time_x    0    1    2    3    4    5    6  ...  \\\n",
       "48190  3793438     2.0  1547413200  0.0  0.0  0.0  0.0  0.0  0.0  0.0  ...   \n",
       "5776   3256899     2.0  1546808400  0.0  0.0  0.0  0.0  0.0  0.0  0.0  ...   \n",
       "43610  1766065     2.0  1547413200  0.0  0.0  0.0  0.0  0.0  0.0  0.0  ...   \n",
       "6733   3040181     6.0  1546808400  0.0  0.0  0.0  0.0  0.0  0.0  0.0  ...   \n",
       "6746   3427825     5.0  1546808400  0.0  0.0  0.0  0.0  0.0  0.0  0.0  ...   \n",
       "\n",
       "       246  247  248  249  250  251  252  month  number_of_week    target  \n",
       "48190  0.0  0.0  0.0  0.0  0.0  0.0  0.0      1               2  0.000067  \n",
       "5776   0.0  0.0  0.0  0.0  0.0  0.0  0.0      1               1  0.000239  \n",
       "43610  0.0  0.0  0.0  0.0  0.0  0.0  0.0      1               2  0.000097  \n",
       "6733   0.0  0.0  0.0  0.0  0.0  0.0  0.0      1               1  0.365303  \n",
       "6746   0.0  0.0  0.0  0.0  0.0  0.0  0.0      1               1  0.000262  \n",
       "\n",
       "[5 rows x 259 columns]"
      ]
     },
     "execution_count": 126,
     "metadata": {},
     "output_type": "execute_result"
    }
   ],
   "source": [
    "data_test.head()"
   ]
  },
  {
   "cell_type": "code",
   "execution_count": 127,
   "id": "2fa15559-cc22-45f4-a693-b6809fba064c",
   "metadata": {},
   "outputs": [],
   "source": [
    "data_test_result = data_test[['id', 'vas_id', 'buy_time_x', 'target']]"
   ]
  },
  {
   "cell_type": "code",
   "execution_count": 128,
   "id": "f4b85ee6-8966-46e6-8b5e-84e1745bd6fb",
   "metadata": {},
   "outputs": [
    {
     "data": {
      "text/html": [
       "<div>\n",
       "<style scoped>\n",
       "    .dataframe tbody tr th:only-of-type {\n",
       "        vertical-align: middle;\n",
       "    }\n",
       "\n",
       "    .dataframe tbody tr th {\n",
       "        vertical-align: top;\n",
       "    }\n",
       "\n",
       "    .dataframe thead th {\n",
       "        text-align: right;\n",
       "    }\n",
       "</style>\n",
       "<table border=\"1\" class=\"dataframe\">\n",
       "  <thead>\n",
       "    <tr style=\"text-align: right;\">\n",
       "      <th></th>\n",
       "      <th>id</th>\n",
       "      <th>vas_id</th>\n",
       "      <th>buy_time_x</th>\n",
       "      <th>target</th>\n",
       "    </tr>\n",
       "  </thead>\n",
       "  <tbody>\n",
       "    <tr>\n",
       "      <th>48190</th>\n",
       "      <td>3793438</td>\n",
       "      <td>2.0</td>\n",
       "      <td>1547413200</td>\n",
       "      <td>0.000067</td>\n",
       "    </tr>\n",
       "    <tr>\n",
       "      <th>5776</th>\n",
       "      <td>3256899</td>\n",
       "      <td>2.0</td>\n",
       "      <td>1546808400</td>\n",
       "      <td>0.000239</td>\n",
       "    </tr>\n",
       "    <tr>\n",
       "      <th>43610</th>\n",
       "      <td>1766065</td>\n",
       "      <td>2.0</td>\n",
       "      <td>1547413200</td>\n",
       "      <td>0.000097</td>\n",
       "    </tr>\n",
       "    <tr>\n",
       "      <th>6733</th>\n",
       "      <td>3040181</td>\n",
       "      <td>6.0</td>\n",
       "      <td>1546808400</td>\n",
       "      <td>0.365303</td>\n",
       "    </tr>\n",
       "    <tr>\n",
       "      <th>6746</th>\n",
       "      <td>3427825</td>\n",
       "      <td>5.0</td>\n",
       "      <td>1546808400</td>\n",
       "      <td>0.000262</td>\n",
       "    </tr>\n",
       "    <tr>\n",
       "      <th>...</th>\n",
       "      <td>...</td>\n",
       "      <td>...</td>\n",
       "      <td>...</td>\n",
       "      <td>...</td>\n",
       "    </tr>\n",
       "    <tr>\n",
       "      <th>41616</th>\n",
       "      <td>3904320</td>\n",
       "      <td>2.0</td>\n",
       "      <td>1547413200</td>\n",
       "      <td>0.000022</td>\n",
       "    </tr>\n",
       "    <tr>\n",
       "      <th>14046</th>\n",
       "      <td>1137480</td>\n",
       "      <td>2.0</td>\n",
       "      <td>1546808400</td>\n",
       "      <td>0.000364</td>\n",
       "    </tr>\n",
       "    <tr>\n",
       "      <th>58268</th>\n",
       "      <td>1791309</td>\n",
       "      <td>2.0</td>\n",
       "      <td>1547413200</td>\n",
       "      <td>0.000057</td>\n",
       "    </tr>\n",
       "    <tr>\n",
       "      <th>31248</th>\n",
       "      <td>1164039</td>\n",
       "      <td>2.0</td>\n",
       "      <td>1547413200</td>\n",
       "      <td>0.000070</td>\n",
       "    </tr>\n",
       "    <tr>\n",
       "      <th>11101</th>\n",
       "      <td>2689579</td>\n",
       "      <td>2.0</td>\n",
       "      <td>1546808400</td>\n",
       "      <td>0.000124</td>\n",
       "    </tr>\n",
       "  </tbody>\n",
       "</table>\n",
       "<p>71139 rows × 4 columns</p>\n",
       "</div>"
      ],
      "text/plain": [
       "            id  vas_id  buy_time_x    target\n",
       "48190  3793438     2.0  1547413200  0.000067\n",
       "5776   3256899     2.0  1546808400  0.000239\n",
       "43610  1766065     2.0  1547413200  0.000097\n",
       "6733   3040181     6.0  1546808400  0.365303\n",
       "6746   3427825     5.0  1546808400  0.000262\n",
       "...        ...     ...         ...       ...\n",
       "41616  3904320     2.0  1547413200  0.000022\n",
       "14046  1137480     2.0  1546808400  0.000364\n",
       "58268  1791309     2.0  1547413200  0.000057\n",
       "31248  1164039     2.0  1547413200  0.000070\n",
       "11101  2689579     2.0  1546808400  0.000124\n",
       "\n",
       "[71139 rows x 4 columns]"
      ]
     },
     "execution_count": 128,
     "metadata": {},
     "output_type": "execute_result"
    }
   ],
   "source": [
    "data_test_result"
   ]
  },
  {
   "cell_type": "code",
   "execution_count": 129,
   "id": "9c5247bf-e459-427b-9f53-ae1fe873a94a",
   "metadata": {},
   "outputs": [],
   "source": [
    "data_test_result.to_csv('answers_test.csv', index=False)"
   ]
  },
  {
   "cell_type": "code",
   "execution_count": 130,
   "id": "31c2eef2-3dd8-4769-8f63-11ae21a9a5ff",
   "metadata": {},
   "outputs": [],
   "source": [
    "data_test.to_csv('data_test_prepare.csv', index=False)"
   ]
  },
  {
   "cell_type": "code",
   "execution_count": 131,
   "id": "6d4e26f8-c8a2-4de2-a938-321485fee1a3",
   "metadata": {},
   "outputs": [],
   "source": [
    "data_train.to_csv('data_train_prepare.csv', index=False)"
   ]
  },
  {
   "cell_type": "code",
   "execution_count": 132,
   "id": "1f754670-1415-464b-be42-0ba146268ea9",
   "metadata": {},
   "outputs": [],
   "source": [
    "import pickle"
   ]
  },
  {
   "cell_type": "code",
   "execution_count": 133,
   "id": "635b0b0c-e84a-4842-bad8-c65db8b823a7",
   "metadata": {},
   "outputs": [],
   "source": [
    "with open('catb_pipe_final.pickle', 'wb') as f:\n",
    "    pickle.dump(catb_pipe_final, f)"
   ]
  },
  {
   "cell_type": "code",
   "execution_count": 134,
   "id": "a67f4af8-1fa7-4220-b660-65171807813c",
   "metadata": {},
   "outputs": [],
   "source": [
    "with open('catb_pipe_final.pickle', 'rb') as f:\n",
    "    catb_pipe_final_pickle =  pickle.load(f)"
   ]
  },
  {
   "cell_type": "code",
   "execution_count": 135,
   "id": "9b303336-2ae0-4b29-9f40-e5c2e494741e",
   "metadata": {},
   "outputs": [],
   "source": [
    "check = catb_pipe_final_pickle.predict_proba(data_test)[:,1]"
   ]
  },
  {
   "cell_type": "code",
   "execution_count": 136,
   "id": "69a85414-2863-4f4e-95ae-c25f75eceab6",
   "metadata": {},
   "outputs": [
    {
     "data": {
      "text/plain": [
       "array([6.69692943e-05, 2.38671495e-04, 9.65691839e-05, ...,\n",
       "       5.67950567e-05, 6.97062958e-05, 1.23629770e-04])"
      ]
     },
     "execution_count": 136,
     "metadata": {},
     "output_type": "execute_result"
    }
   ],
   "source": [
    "check"
   ]
  }
 ],
 "metadata": {
  "kernelspec": {
   "display_name": "Python 3 (ipykernel)",
   "language": "python",
   "name": "python3"
  },
  "language_info": {
   "codemirror_mode": {
    "name": "ipython",
    "version": 3
   },
   "file_extension": ".py",
   "mimetype": "text/x-python",
   "name": "python",
   "nbconvert_exporter": "python",
   "pygments_lexer": "ipython3",
   "version": "3.9.12"
  }
 },
 "nbformat": 4,
 "nbformat_minor": 5
}
